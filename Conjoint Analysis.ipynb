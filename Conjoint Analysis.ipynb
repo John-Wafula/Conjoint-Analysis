{
 "cells": [
  {
   "cell_type": "markdown",
   "id": "16fbf9a8",
   "metadata": {},
   "source": [
    "# Conjoint Analysis\n"
   ]
  },
  {
   "cell_type": "code",
   "execution_count": 16,
   "id": "60a9aa44",
   "metadata": {},
   "outputs": [],
   "source": [
    "import statsmodels.api as sm\n",
    "import statsmodels.formula.api as smf\n",
    "import statsmodels.api as sm\n",
    "from sklearn import preprocessing\n"
   ]
  },
  {
   "cell_type": "code",
   "execution_count": 1,
   "id": "3704b028",
   "metadata": {},
   "outputs": [],
   "source": [
    "import pandas as pd\n",
    "import numpy as np\n",
    "import matplotlib.pyplot as plt "
   ]
  },
  {
   "cell_type": "code",
   "execution_count": 18,
   "id": "07ef3d60",
   "metadata": {},
   "outputs": [],
   "source": [
    "dataset = pd.read_csv(\"C:/Users/sa/Documents/fid_416603781_files/416603781_hotel_amenities_7946151897509694.csv\")"
   ]
  },
  {
   "cell_type": "code",
   "execution_count": 19,
   "id": "1e5189bb",
   "metadata": {},
   "outputs": [
    {
     "data": {
      "text/html": [
       "<div>\n",
       "<style scoped>\n",
       "    .dataframe tbody tr th:only-of-type {\n",
       "        vertical-align: middle;\n",
       "    }\n",
       "\n",
       "    .dataframe tbody tr th {\n",
       "        vertical-align: top;\n",
       "    }\n",
       "\n",
       "    .dataframe thead th {\n",
       "        text-align: right;\n",
       "    }\n",
       "</style>\n",
       "<table border=\"1\" class=\"dataframe\">\n",
       "  <thead>\n",
       "    <tr style=\"text-align: right;\">\n",
       "      <th></th>\n",
       "      <th>WiFi_Network</th>\n",
       "      <th>breakfast</th>\n",
       "      <th>parking</th>\n",
       "      <th>gym</th>\n",
       "      <th>flex_check</th>\n",
       "      <th>shuttle_bus</th>\n",
       "      <th>air_pure</th>\n",
       "      <th>jacuzzi</th>\n",
       "      <th>VIP_shop</th>\n",
       "      <th>pool_temp</th>\n",
       "      <th>avg_rating</th>\n",
       "    </tr>\n",
       "  </thead>\n",
       "  <tbody>\n",
       "    <tr>\n",
       "      <th>0</th>\n",
       "      <td>Basic</td>\n",
       "      <td>None</td>\n",
       "      <td>Valet</td>\n",
       "      <td>None</td>\n",
       "      <td>No</td>\n",
       "      <td>No</td>\n",
       "      <td>No</td>\n",
       "      <td>No</td>\n",
       "      <td>No</td>\n",
       "      <td>76</td>\n",
       "      <td>4.57</td>\n",
       "    </tr>\n",
       "    <tr>\n",
       "      <th>1</th>\n",
       "      <td>Basic</td>\n",
       "      <td>None</td>\n",
       "      <td>Valet</td>\n",
       "      <td>None</td>\n",
       "      <td>No</td>\n",
       "      <td>No</td>\n",
       "      <td>No</td>\n",
       "      <td>No</td>\n",
       "      <td>No</td>\n",
       "      <td>80</td>\n",
       "      <td>7.60</td>\n",
       "    </tr>\n",
       "    <tr>\n",
       "      <th>2</th>\n",
       "      <td>Basic</td>\n",
       "      <td>None</td>\n",
       "      <td>Valet</td>\n",
       "      <td>None</td>\n",
       "      <td>No</td>\n",
       "      <td>No</td>\n",
       "      <td>No</td>\n",
       "      <td>No</td>\n",
       "      <td>No</td>\n",
       "      <td>84</td>\n",
       "      <td>5.66</td>\n",
       "    </tr>\n",
       "    <tr>\n",
       "      <th>3</th>\n",
       "      <td>Basic</td>\n",
       "      <td>None</td>\n",
       "      <td>Valet</td>\n",
       "      <td>None</td>\n",
       "      <td>No</td>\n",
       "      <td>No</td>\n",
       "      <td>No</td>\n",
       "      <td>No</td>\n",
       "      <td>Yes</td>\n",
       "      <td>76</td>\n",
       "      <td>2.80</td>\n",
       "    </tr>\n",
       "    <tr>\n",
       "      <th>4</th>\n",
       "      <td>Basic</td>\n",
       "      <td>None</td>\n",
       "      <td>Valet</td>\n",
       "      <td>None</td>\n",
       "      <td>No</td>\n",
       "      <td>No</td>\n",
       "      <td>No</td>\n",
       "      <td>No</td>\n",
       "      <td>Yes</td>\n",
       "      <td>80</td>\n",
       "      <td>4.56</td>\n",
       "    </tr>\n",
       "  </tbody>\n",
       "</table>\n",
       "</div>"
      ],
      "text/plain": [
       "  WiFi_Network breakfast parking   gym flex_check shuttle_bus air_pure  \\\n",
       "0        Basic      None   Valet  None         No          No       No   \n",
       "1        Basic      None   Valet  None         No          No       No   \n",
       "2        Basic      None   Valet  None         No          No       No   \n",
       "3        Basic      None   Valet  None         No          No       No   \n",
       "4        Basic      None   Valet  None         No          No       No   \n",
       "\n",
       "  jacuzzi VIP_shop  pool_temp  avg_rating  \n",
       "0      No       No         76        4.57  \n",
       "1      No       No         80        7.60  \n",
       "2      No       No         84        5.66  \n",
       "3      No      Yes         76        2.80  \n",
       "4      No      Yes         80        4.56  "
      ]
     },
     "execution_count": 19,
     "metadata": {},
     "output_type": "execute_result"
    }
   ],
   "source": [
    "dataset.head(5)"
   ]
  },
  {
   "cell_type": "code",
   "execution_count": 20,
   "id": "fb68ca9b",
   "metadata": {},
   "outputs": [
    {
     "name": "stdout",
     "output_type": "stream",
     "text": [
      "<class 'pandas.core.frame.DataFrame'>\n",
      "RangeIndex: 6912 entries, 0 to 6911\n",
      "Data columns (total 11 columns):\n",
      " #   Column        Non-Null Count  Dtype  \n",
      "---  ------        --------------  -----  \n",
      " 0   WiFi_Network  6912 non-null   object \n",
      " 1   breakfast     6912 non-null   object \n",
      " 2   parking       6912 non-null   object \n",
      " 3   gym           6912 non-null   object \n",
      " 4   flex_check    6912 non-null   object \n",
      " 5   shuttle_bus   6912 non-null   object \n",
      " 6   air_pure      6912 non-null   object \n",
      " 7   jacuzzi       6912 non-null   object \n",
      " 8   VIP_shop      6912 non-null   object \n",
      " 9   pool_temp     6912 non-null   int64  \n",
      " 10  avg_rating    6912 non-null   float64\n",
      "dtypes: float64(1), int64(1), object(9)\n",
      "memory usage: 594.1+ KB\n"
     ]
    }
   ],
   "source": [
    "dataset.info()"
   ]
  },
  {
   "cell_type": "code",
   "execution_count": 21,
   "id": "86b583c9",
   "metadata": {},
   "outputs": [
    {
     "data": {
      "text/plain": [
       "WiFi_Network    0\n",
       "breakfast       0\n",
       "parking         0\n",
       "gym             0\n",
       "flex_check      0\n",
       "shuttle_bus     0\n",
       "air_pure        0\n",
       "jacuzzi         0\n",
       "VIP_shop        0\n",
       "pool_temp       0\n",
       "avg_rating      0\n",
       "dtype: int64"
      ]
     },
     "execution_count": 21,
     "metadata": {},
     "output_type": "execute_result"
    }
   ],
   "source": [
    "dataset.isnull().sum()"
   ]
  },
  {
   "cell_type": "code",
   "execution_count": 22,
   "id": "3693823f",
   "metadata": {},
   "outputs": [
    {
     "data": {
      "text/html": [
       "<div>\n",
       "<style scoped>\n",
       "    .dataframe tbody tr th:only-of-type {\n",
       "        vertical-align: middle;\n",
       "    }\n",
       "\n",
       "    .dataframe tbody tr th {\n",
       "        vertical-align: top;\n",
       "    }\n",
       "\n",
       "    .dataframe thead th {\n",
       "        text-align: right;\n",
       "    }\n",
       "</style>\n",
       "<table border=\"1\" class=\"dataframe\">\n",
       "  <thead>\n",
       "    <tr style=\"text-align: right;\">\n",
       "      <th></th>\n",
       "      <th>avg_rating</th>\n",
       "      <th>WiFi_Network_Best in Class</th>\n",
       "      <th>WiFi_Network_Strong</th>\n",
       "      <th>breakfast_Full Buffet</th>\n",
       "      <th>breakfast_None</th>\n",
       "      <th>parking_Valet</th>\n",
       "      <th>gym_Basic</th>\n",
       "      <th>gym_None</th>\n",
       "      <th>gym_Super</th>\n",
       "      <th>flex_check_Yes</th>\n",
       "      <th>shuttle_bus_Yes</th>\n",
       "      <th>air_pure_Yes</th>\n",
       "      <th>jacuzzi_Yes</th>\n",
       "      <th>VIP_shop_Yes</th>\n",
       "      <th>pool_temp_80</th>\n",
       "      <th>pool_temp_84</th>\n",
       "    </tr>\n",
       "  </thead>\n",
       "  <tbody>\n",
       "    <tr>\n",
       "      <th>0</th>\n",
       "      <td>4.57</td>\n",
       "      <td>0</td>\n",
       "      <td>0</td>\n",
       "      <td>0</td>\n",
       "      <td>1</td>\n",
       "      <td>1</td>\n",
       "      <td>0</td>\n",
       "      <td>1</td>\n",
       "      <td>0</td>\n",
       "      <td>0</td>\n",
       "      <td>0</td>\n",
       "      <td>0</td>\n",
       "      <td>0</td>\n",
       "      <td>0</td>\n",
       "      <td>0</td>\n",
       "      <td>0</td>\n",
       "    </tr>\n",
       "    <tr>\n",
       "      <th>1</th>\n",
       "      <td>7.60</td>\n",
       "      <td>0</td>\n",
       "      <td>0</td>\n",
       "      <td>0</td>\n",
       "      <td>1</td>\n",
       "      <td>1</td>\n",
       "      <td>0</td>\n",
       "      <td>1</td>\n",
       "      <td>0</td>\n",
       "      <td>0</td>\n",
       "      <td>0</td>\n",
       "      <td>0</td>\n",
       "      <td>0</td>\n",
       "      <td>0</td>\n",
       "      <td>1</td>\n",
       "      <td>0</td>\n",
       "    </tr>\n",
       "    <tr>\n",
       "      <th>2</th>\n",
       "      <td>5.66</td>\n",
       "      <td>0</td>\n",
       "      <td>0</td>\n",
       "      <td>0</td>\n",
       "      <td>1</td>\n",
       "      <td>1</td>\n",
       "      <td>0</td>\n",
       "      <td>1</td>\n",
       "      <td>0</td>\n",
       "      <td>0</td>\n",
       "      <td>0</td>\n",
       "      <td>0</td>\n",
       "      <td>0</td>\n",
       "      <td>0</td>\n",
       "      <td>0</td>\n",
       "      <td>1</td>\n",
       "    </tr>\n",
       "    <tr>\n",
       "      <th>3</th>\n",
       "      <td>2.80</td>\n",
       "      <td>0</td>\n",
       "      <td>0</td>\n",
       "      <td>0</td>\n",
       "      <td>1</td>\n",
       "      <td>1</td>\n",
       "      <td>0</td>\n",
       "      <td>1</td>\n",
       "      <td>0</td>\n",
       "      <td>0</td>\n",
       "      <td>0</td>\n",
       "      <td>0</td>\n",
       "      <td>0</td>\n",
       "      <td>1</td>\n",
       "      <td>0</td>\n",
       "      <td>0</td>\n",
       "    </tr>\n",
       "    <tr>\n",
       "      <th>4</th>\n",
       "      <td>4.56</td>\n",
       "      <td>0</td>\n",
       "      <td>0</td>\n",
       "      <td>0</td>\n",
       "      <td>1</td>\n",
       "      <td>1</td>\n",
       "      <td>0</td>\n",
       "      <td>1</td>\n",
       "      <td>0</td>\n",
       "      <td>0</td>\n",
       "      <td>0</td>\n",
       "      <td>0</td>\n",
       "      <td>0</td>\n",
       "      <td>1</td>\n",
       "      <td>1</td>\n",
       "      <td>0</td>\n",
       "    </tr>\n",
       "  </tbody>\n",
       "</table>\n",
       "</div>"
      ],
      "text/plain": [
       "   avg_rating  WiFi_Network_Best in Class  WiFi_Network_Strong  \\\n",
       "0        4.57                           0                    0   \n",
       "1        7.60                           0                    0   \n",
       "2        5.66                           0                    0   \n",
       "3        2.80                           0                    0   \n",
       "4        4.56                           0                    0   \n",
       "\n",
       "   breakfast_Full Buffet  breakfast_None  parking_Valet  gym_Basic  gym_None  \\\n",
       "0                      0               1              1          0         1   \n",
       "1                      0               1              1          0         1   \n",
       "2                      0               1              1          0         1   \n",
       "3                      0               1              1          0         1   \n",
       "4                      0               1              1          0         1   \n",
       "\n",
       "   gym_Super  flex_check_Yes  shuttle_bus_Yes  air_pure_Yes  jacuzzi_Yes  \\\n",
       "0          0               0                0             0            0   \n",
       "1          0               0                0             0            0   \n",
       "2          0               0                0             0            0   \n",
       "3          0               0                0             0            0   \n",
       "4          0               0                0             0            0   \n",
       "\n",
       "   VIP_shop_Yes  pool_temp_80  pool_temp_84  \n",
       "0             0             0             0  \n",
       "1             0             1             0  \n",
       "2             0             0             1  \n",
       "3             1             0             0  \n",
       "4             1             1             0  "
      ]
     },
     "execution_count": 22,
     "metadata": {},
     "output_type": "execute_result"
    }
   ],
   "source": [
    "xdum = pd.get_dummies(dataset, drop_first=True, columns=['WiFi_Network', 'breakfast', 'parking', 'gym', 'flex_check', 'shuttle_bus', 'air_pure', 'jacuzzi', 'VIP_shop', 'pool_temp'])\n",
    "xdum.head()"
   ]
  },
  {
   "cell_type": "code",
   "execution_count": 23,
   "id": "ed301489",
   "metadata": {},
   "outputs": [
    {
     "data": {
      "text/html": [
       "<div>\n",
       "<style scoped>\n",
       "    .dataframe tbody tr th:only-of-type {\n",
       "        vertical-align: middle;\n",
       "    }\n",
       "\n",
       "    .dataframe tbody tr th {\n",
       "        vertical-align: top;\n",
       "    }\n",
       "\n",
       "    .dataframe thead th {\n",
       "        text-align: right;\n",
       "    }\n",
       "</style>\n",
       "<table border=\"1\" class=\"dataframe\">\n",
       "  <thead>\n",
       "    <tr style=\"text-align: right;\">\n",
       "      <th></th>\n",
       "      <th>Coefficient</th>\n",
       "    </tr>\n",
       "  </thead>\n",
       "  <tbody>\n",
       "    <tr>\n",
       "      <th>WiFi_Network_Best in Class</th>\n",
       "      <td>1.726814</td>\n",
       "    </tr>\n",
       "    <tr>\n",
       "      <th>WiFi_Network_Strong</th>\n",
       "      <td>1.187700</td>\n",
       "    </tr>\n",
       "    <tr>\n",
       "      <th>breakfast_Full Buffet</th>\n",
       "      <td>0.500998</td>\n",
       "    </tr>\n",
       "    <tr>\n",
       "      <th>breakfast_None</th>\n",
       "      <td>-0.225924</td>\n",
       "    </tr>\n",
       "    <tr>\n",
       "      <th>parking_Valet</th>\n",
       "      <td>0.093678</td>\n",
       "    </tr>\n",
       "    <tr>\n",
       "      <th>gym_Basic</th>\n",
       "      <td>-0.146314</td>\n",
       "    </tr>\n",
       "    <tr>\n",
       "      <th>gym_None</th>\n",
       "      <td>-0.168484</td>\n",
       "    </tr>\n",
       "    <tr>\n",
       "      <th>gym_Super</th>\n",
       "      <td>0.044363</td>\n",
       "    </tr>\n",
       "    <tr>\n",
       "      <th>flex_check_Yes</th>\n",
       "      <td>0.478220</td>\n",
       "    </tr>\n",
       "    <tr>\n",
       "      <th>shuttle_bus_Yes</th>\n",
       "      <td>0.419939</td>\n",
       "    </tr>\n",
       "    <tr>\n",
       "      <th>air_pure_Yes</th>\n",
       "      <td>0.075258</td>\n",
       "    </tr>\n",
       "    <tr>\n",
       "      <th>jacuzzi_Yes</th>\n",
       "      <td>0.183909</td>\n",
       "    </tr>\n",
       "    <tr>\n",
       "      <th>VIP_shop_Yes</th>\n",
       "      <td>0.217925</td>\n",
       "    </tr>\n",
       "    <tr>\n",
       "      <th>pool_temp_80</th>\n",
       "      <td>0.074744</td>\n",
       "    </tr>\n",
       "    <tr>\n",
       "      <th>pool_temp_84</th>\n",
       "      <td>0.263806</td>\n",
       "    </tr>\n",
       "  </tbody>\n",
       "</table>\n",
       "</div>"
      ],
      "text/plain": [
       "                            Coefficient\n",
       "WiFi_Network_Best in Class     1.726814\n",
       "WiFi_Network_Strong            1.187700\n",
       "breakfast_Full Buffet          0.500998\n",
       "breakfast_None                -0.225924\n",
       "parking_Valet                  0.093678\n",
       "gym_Basic                     -0.146314\n",
       "gym_None                      -0.168484\n",
       "gym_Super                      0.044363\n",
       "flex_check_Yes                 0.478220\n",
       "shuttle_bus_Yes                0.419939\n",
       "air_pure_Yes                   0.075258\n",
       "jacuzzi_Yes                    0.183909\n",
       "VIP_shop_Yes                   0.217925\n",
       "pool_temp_80                   0.074744\n",
       "pool_temp_84                   0.263806"
      ]
     },
     "execution_count": 23,
     "metadata": {},
     "output_type": "execute_result"
    }
   ],
   "source": [
    "xdum.columns\n",
    "X = xdum[['WiFi_Network_Best in Class','WiFi_Network_Strong','breakfast_Full Buffet','breakfast_None','parking_Valet',\n",
    "          'gym_Basic','gym_None', 'gym_Super','flex_check_Yes','shuttle_bus_Yes','air_pure_Yes','jacuzzi_Yes',\n",
    "          'VIP_shop_Yes','pool_temp_80', 'pool_temp_84']]\n",
    "y = xdum['avg_rating']\n",
    "from sklearn.linear_model import LinearRegression\n",
    "from sklearn import metrics\n",
    "regressor = LinearRegression()\n",
    "lr = regressor.fit(X, y)\n",
    "regressor.intercept_\n",
    "coef_df = pd.DataFrame(regressor.coef_, X.columns, columns=['Coefficient'])\n",
    "coef_df"
   ]
  },
  {
   "cell_type": "code",
   "execution_count": 27,
   "id": "6f454d01",
   "metadata": {},
   "outputs": [
    {
     "data": {
      "text/html": [
       "<table class=\"simpletable\">\n",
       "<caption>OLS Regression Results</caption>\n",
       "<tr>\n",
       "  <th>Dep. Variable:</th>       <td>avg_rating</td>    <th>  R-squared:         </th> <td>   0.277</td> \n",
       "</tr>\n",
       "<tr>\n",
       "  <th>Model:</th>                   <td>OLS</td>       <th>  Adj. R-squared:    </th> <td>   0.275</td> \n",
       "</tr>\n",
       "<tr>\n",
       "  <th>Method:</th>             <td>Least Squares</td>  <th>  F-statistic:       </th> <td>   175.7</td> \n",
       "</tr>\n",
       "<tr>\n",
       "  <th>Date:</th>             <td>Wed, 30 Jun 2021</td> <th>  Prob (F-statistic):</th>  <td>  0.00</td>  \n",
       "</tr>\n",
       "<tr>\n",
       "  <th>Time:</th>                 <td>03:34:11</td>     <th>  Log-Likelihood:    </th> <td> -12176.</td> \n",
       "</tr>\n",
       "<tr>\n",
       "  <th>No. Observations:</th>      <td>  6912</td>      <th>  AIC:               </th> <td>2.438e+04</td>\n",
       "</tr>\n",
       "<tr>\n",
       "  <th>Df Residuals:</th>          <td>  6896</td>      <th>  BIC:               </th> <td>2.449e+04</td>\n",
       "</tr>\n",
       "<tr>\n",
       "  <th>Df Model:</th>              <td>    15</td>      <th>                     </th>     <td> </td>    \n",
       "</tr>\n",
       "<tr>\n",
       "  <th>Covariance Type:</th>      <td>nonrobust</td>    <th>                     </th>     <td> </td>    \n",
       "</tr>\n",
       "</table>\n",
       "<table class=\"simpletable\">\n",
       "<tr>\n",
       "               <td></td>                 <th>coef</th>     <th>std err</th>      <th>t</th>      <th>P>|t|</th>  <th>[0.025</th>    <th>0.975]</th>  \n",
       "</tr>\n",
       "<tr>\n",
       "  <th>const</th>                      <td>    5.5280</td> <td>    0.068</td> <td>   81.468</td> <td> 0.000</td> <td>    5.395</td> <td>    5.661</td>\n",
       "</tr>\n",
       "<tr>\n",
       "  <th>WiFi_Network_Best in Class</th> <td>    1.7268</td> <td>    0.042</td> <td>   41.558</td> <td> 0.000</td> <td>    1.645</td> <td>    1.808</td>\n",
       "</tr>\n",
       "<tr>\n",
       "  <th>WiFi_Network_Strong</th>        <td>    1.1877</td> <td>    0.042</td> <td>   28.583</td> <td> 0.000</td> <td>    1.106</td> <td>    1.269</td>\n",
       "</tr>\n",
       "<tr>\n",
       "  <th>breakfast_Full Buffet</th>      <td>    0.5010</td> <td>    0.042</td> <td>   12.057</td> <td> 0.000</td> <td>    0.420</td> <td>    0.582</td>\n",
       "</tr>\n",
       "<tr>\n",
       "  <th>breakfast_None</th>             <td>   -0.2259</td> <td>    0.042</td> <td>   -5.437</td> <td> 0.000</td> <td>   -0.307</td> <td>   -0.144</td>\n",
       "</tr>\n",
       "<tr>\n",
       "  <th>parking_Valet</th>              <td>    0.0937</td> <td>    0.034</td> <td>    2.761</td> <td> 0.006</td> <td>    0.027</td> <td>    0.160</td>\n",
       "</tr>\n",
       "<tr>\n",
       "  <th>gym_Basic</th>                  <td>   -0.1463</td> <td>    0.048</td> <td>   -3.049</td> <td> 0.002</td> <td>   -0.240</td> <td>   -0.052</td>\n",
       "</tr>\n",
       "<tr>\n",
       "  <th>gym_None</th>                   <td>   -0.1685</td> <td>    0.048</td> <td>   -3.512</td> <td> 0.000</td> <td>   -0.263</td> <td>   -0.074</td>\n",
       "</tr>\n",
       "<tr>\n",
       "  <th>gym_Super</th>                  <td>    0.0444</td> <td>    0.048</td> <td>    0.925</td> <td> 0.355</td> <td>   -0.050</td> <td>    0.138</td>\n",
       "</tr>\n",
       "<tr>\n",
       "  <th>flex_check_Yes</th>             <td>    0.4782</td> <td>    0.034</td> <td>   14.096</td> <td> 0.000</td> <td>    0.412</td> <td>    0.545</td>\n",
       "</tr>\n",
       "<tr>\n",
       "  <th>shuttle_bus_Yes</th>            <td>    0.4199</td> <td>    0.034</td> <td>   12.378</td> <td> 0.000</td> <td>    0.353</td> <td>    0.486</td>\n",
       "</tr>\n",
       "<tr>\n",
       "  <th>air_pure_Yes</th>               <td>    0.0753</td> <td>    0.034</td> <td>    2.218</td> <td> 0.027</td> <td>    0.009</td> <td>    0.142</td>\n",
       "</tr>\n",
       "<tr>\n",
       "  <th>jacuzzi_Yes</th>                <td>    0.1839</td> <td>    0.034</td> <td>    5.421</td> <td> 0.000</td> <td>    0.117</td> <td>    0.250</td>\n",
       "</tr>\n",
       "<tr>\n",
       "  <th>VIP_shop_Yes</th>               <td>    0.2179</td> <td>    0.034</td> <td>    6.423</td> <td> 0.000</td> <td>    0.151</td> <td>    0.284</td>\n",
       "</tr>\n",
       "<tr>\n",
       "  <th>pool_temp_80</th>               <td>    0.0747</td> <td>    0.042</td> <td>    1.799</td> <td> 0.072</td> <td>   -0.007</td> <td>    0.156</td>\n",
       "</tr>\n",
       "<tr>\n",
       "  <th>pool_temp_84</th>               <td>    0.2638</td> <td>    0.042</td> <td>    6.349</td> <td> 0.000</td> <td>    0.182</td> <td>    0.345</td>\n",
       "</tr>\n",
       "</table>\n",
       "<table class=\"simpletable\">\n",
       "<tr>\n",
       "  <th>Omnibus:</th>       <td>153.138</td> <th>  Durbin-Watson:     </th> <td>   1.948</td>\n",
       "</tr>\n",
       "<tr>\n",
       "  <th>Prob(Omnibus):</th> <td> 0.000</td>  <th>  Jarque-Bera (JB):  </th> <td> 162.951</td>\n",
       "</tr>\n",
       "<tr>\n",
       "  <th>Skew:</th>          <td>-0.370</td>  <th>  Prob(JB):          </th> <td>4.13e-36</td>\n",
       "</tr>\n",
       "<tr>\n",
       "  <th>Kurtosis:</th>      <td> 3.130</td>  <th>  Cond. No.          </th> <td>    9.43</td>\n",
       "</tr>\n",
       "</table><br/><br/>Notes:<br/>[1] Standard Errors assume that the covariance matrix of the errors is correctly specified."
      ],
      "text/plain": [
       "<class 'statsmodels.iolib.summary.Summary'>\n",
       "\"\"\"\n",
       "                            OLS Regression Results                            \n",
       "==============================================================================\n",
       "Dep. Variable:             avg_rating   R-squared:                       0.277\n",
       "Model:                            OLS   Adj. R-squared:                  0.275\n",
       "Method:                 Least Squares   F-statistic:                     175.7\n",
       "Date:                Wed, 30 Jun 2021   Prob (F-statistic):               0.00\n",
       "Time:                        03:34:11   Log-Likelihood:                -12176.\n",
       "No. Observations:                6912   AIC:                         2.438e+04\n",
       "Df Residuals:                    6896   BIC:                         2.449e+04\n",
       "Df Model:                          15                                         \n",
       "Covariance Type:            nonrobust                                         \n",
       "==============================================================================================\n",
       "                                 coef    std err          t      P>|t|      [0.025      0.975]\n",
       "----------------------------------------------------------------------------------------------\n",
       "const                          5.5280      0.068     81.468      0.000       5.395       5.661\n",
       "WiFi_Network_Best in Class     1.7268      0.042     41.558      0.000       1.645       1.808\n",
       "WiFi_Network_Strong            1.1877      0.042     28.583      0.000       1.106       1.269\n",
       "breakfast_Full Buffet          0.5010      0.042     12.057      0.000       0.420       0.582\n",
       "breakfast_None                -0.2259      0.042     -5.437      0.000      -0.307      -0.144\n",
       "parking_Valet                  0.0937      0.034      2.761      0.006       0.027       0.160\n",
       "gym_Basic                     -0.1463      0.048     -3.049      0.002      -0.240      -0.052\n",
       "gym_None                      -0.1685      0.048     -3.512      0.000      -0.263      -0.074\n",
       "gym_Super                      0.0444      0.048      0.925      0.355      -0.050       0.138\n",
       "flex_check_Yes                 0.4782      0.034     14.096      0.000       0.412       0.545\n",
       "shuttle_bus_Yes                0.4199      0.034     12.378      0.000       0.353       0.486\n",
       "air_pure_Yes                   0.0753      0.034      2.218      0.027       0.009       0.142\n",
       "jacuzzi_Yes                    0.1839      0.034      5.421      0.000       0.117       0.250\n",
       "VIP_shop_Yes                   0.2179      0.034      6.423      0.000       0.151       0.284\n",
       "pool_temp_80                   0.0747      0.042      1.799      0.072      -0.007       0.156\n",
       "pool_temp_84                   0.2638      0.042      6.349      0.000       0.182       0.345\n",
       "==============================================================================\n",
       "Omnibus:                      153.138   Durbin-Watson:                   1.948\n",
       "Prob(Omnibus):                  0.000   Jarque-Bera (JB):              162.951\n",
       "Skew:                          -0.370   Prob(JB):                     4.13e-36\n",
       "Kurtosis:                       3.130   Cond. No.                         9.43\n",
       "==============================================================================\n",
       "\n",
       "Notes:\n",
       "[1] Standard Errors assume that the covariance matrix of the errors is correctly specified.\n",
       "\"\"\""
      ]
     },
     "execution_count": 27,
     "metadata": {},
     "output_type": "execute_result"
    }
   ],
   "source": [
    "X = xdum[['WiFi_Network_Best in Class','WiFi_Network_Strong','breakfast_Full Buffet','breakfast_None','parking_Valet',\n",
    "          'gym_Basic','gym_None', 'gym_Super','flex_check_Yes','shuttle_bus_Yes','air_pure_Yes','jacuzzi_Yes',\n",
    "          'VIP_shop_Yes','pool_temp_80', 'pool_temp_84']]\n",
    "X = sm.add_constant(X)\n",
    "Y = xdum['avg_rating']\n",
    "linearRegression = sm.OLS(Y, X).fit()\n",
    "linearRegression.summary()"
   ]
  },
  {
   "cell_type": "code",
   "execution_count": 24,
   "id": "743743c0",
   "metadata": {},
   "outputs": [
    {
     "data": {
      "text/plain": [
       "<AxesSubplot:>"
      ]
     },
     "execution_count": 24,
     "metadata": {},
     "output_type": "execute_result"
    },
    {
     "data": {
      "image/png": "[encoded data removed]",
      "text/plain": [
       "<Figure size 432x288 with 1 Axes>"
      ]
     },
     "metadata": {
      "needs_background": "light"
     },
     "output_type": "display_data"
    }
   ],
   "source": [
    "xdum.plot()"
   ]
  },
  {
   "cell_type": "markdown",
   "id": "574e53e7",
   "metadata": {},
   "source": [
    "Bringing in the second dataset\n"
   ]
  },
  {
   "cell_type": "code",
   "execution_count": 5,
   "id": "c0696c47",
   "metadata": {},
   "outputs": [],
   "source": [
    "dataset = pd.read_csv(\"C:/Users/sa/Documents/fid_416603781_files (1)/416603781_amenity_costs_1209170245279089.csv\")"
   ]
  },
  {
   "cell_type": "code",
   "execution_count": 6,
   "id": "8714ec33",
   "metadata": {},
   "outputs": [
    {
     "data": {
      "text/html": [
       "<div>\n",
       "<style scoped>\n",
       "    .dataframe tbody tr th:only-of-type {\n",
       "        vertical-align: middle;\n",
       "    }\n",
       "\n",
       "    .dataframe tbody tr th {\n",
       "        vertical-align: top;\n",
       "    }\n",
       "\n",
       "    .dataframe thead th {\n",
       "        text-align: right;\n",
       "    }\n",
       "</style>\n",
       "<table border=\"1\" class=\"dataframe\">\n",
       "  <thead>\n",
       "    <tr style=\"text-align: right;\">\n",
       "      <th></th>\n",
       "      <th>Amenity</th>\n",
       "      <th>Level</th>\n",
       "      <th>Estimated Incremental Cost,\\nPer Visitor/Per Night</th>\n",
       "    </tr>\n",
       "  </thead>\n",
       "  <tbody>\n",
       "    <tr>\n",
       "      <th>0</th>\n",
       "      <td>WiFi_Network</td>\n",
       "      <td>Basic</td>\n",
       "      <td>11.75</td>\n",
       "    </tr>\n",
       "    <tr>\n",
       "      <th>1</th>\n",
       "      <td>WiFi_Network</td>\n",
       "      <td>Strong</td>\n",
       "      <td>16.25</td>\n",
       "    </tr>\n",
       "    <tr>\n",
       "      <th>2</th>\n",
       "      <td>WiFi_Network</td>\n",
       "      <td>Best in Class</td>\n",
       "      <td>19.15</td>\n",
       "    </tr>\n",
       "    <tr>\n",
       "      <th>3</th>\n",
       "      <td>breakfast</td>\n",
       "      <td>None</td>\n",
       "      <td>0.00</td>\n",
       "    </tr>\n",
       "    <tr>\n",
       "      <th>4</th>\n",
       "      <td>breakfast</td>\n",
       "      <td>Continental</td>\n",
       "      <td>13.25</td>\n",
       "    </tr>\n",
       "  </tbody>\n",
       "</table>\n",
       "</div>"
      ],
      "text/plain": [
       "        Amenity          Level  \\\n",
       "0  WiFi_Network          Basic   \n",
       "1  WiFi_Network         Strong   \n",
       "2  WiFi_Network  Best in Class   \n",
       "3     breakfast           None   \n",
       "4     breakfast    Continental   \n",
       "\n",
       "   Estimated Incremental Cost,\\nPer Visitor/Per Night  \n",
       "0                                              11.75   \n",
       "1                                              16.25   \n",
       "2                                              19.15   \n",
       "3                                               0.00   \n",
       "4                                              13.25   "
      ]
     },
     "execution_count": 6,
     "metadata": {},
     "output_type": "execute_result"
    }
   ],
   "source": [
    "dataset.head(5)"
   ]
  },
  {
   "cell_type": "code",
   "execution_count": 7,
   "id": "d74d94fb",
   "metadata": {},
   "outputs": [
    {
     "data": {
      "text/html": [
       "<div>\n",
       "<style scoped>\n",
       "    .dataframe tbody tr th:only-of-type {\n",
       "        vertical-align: middle;\n",
       "    }\n",
       "\n",
       "    .dataframe tbody tr th {\n",
       "        vertical-align: top;\n",
       "    }\n",
       "\n",
       "    .dataframe thead th {\n",
       "        text-align: right;\n",
       "    }\n",
       "</style>\n",
       "<table border=\"1\" class=\"dataframe\">\n",
       "  <thead>\n",
       "    <tr style=\"text-align: right;\">\n",
       "      <th></th>\n",
       "      <th>Estimated Incremental Cost,\\nPer Visitor/Per Night</th>\n",
       "    </tr>\n",
       "  </thead>\n",
       "  <tbody>\n",
       "    <tr>\n",
       "      <th>count</th>\n",
       "      <td>25.000000</td>\n",
       "    </tr>\n",
       "    <tr>\n",
       "      <th>mean</th>\n",
       "      <td>20.588000</td>\n",
       "    </tr>\n",
       "    <tr>\n",
       "      <th>std</th>\n",
       "      <td>21.775264</td>\n",
       "    </tr>\n",
       "    <tr>\n",
       "      <th>min</th>\n",
       "      <td>0.000000</td>\n",
       "    </tr>\n",
       "    <tr>\n",
       "      <th>25%</th>\n",
       "      <td>0.000000</td>\n",
       "    </tr>\n",
       "    <tr>\n",
       "      <th>50%</th>\n",
       "      <td>13.250000</td>\n",
       "    </tr>\n",
       "    <tr>\n",
       "      <th>75%</th>\n",
       "      <td>35.000000</td>\n",
       "    </tr>\n",
       "    <tr>\n",
       "      <th>max</th>\n",
       "      <td>75.000000</td>\n",
       "    </tr>\n",
       "  </tbody>\n",
       "</table>\n",
       "</div>"
      ],
      "text/plain": [
       "       Estimated Incremental Cost,\\nPer Visitor/Per Night\n",
       "count                                          25.000000 \n",
       "mean                                           20.588000 \n",
       "std                                            21.775264 \n",
       "min                                             0.000000 \n",
       "25%                                             0.000000 \n",
       "50%                                            13.250000 \n",
       "75%                                            35.000000 \n",
       "max                                            75.000000 "
      ]
     },
     "execution_count": 7,
     "metadata": {},
     "output_type": "execute_result"
    }
   ],
   "source": [
    "dataset.describe()"
   ]
  },
  {
   "cell_type": "code",
   "execution_count": 8,
   "id": "136bcd1d",
   "metadata": {},
   "outputs": [
    {
     "data": {
      "text/html": [
       "<div>\n",
       "<style scoped>\n",
       "    .dataframe tbody tr th:only-of-type {\n",
       "        vertical-align: middle;\n",
       "    }\n",
       "\n",
       "    .dataframe tbody tr th {\n",
       "        vertical-align: top;\n",
       "    }\n",
       "\n",
       "    .dataframe thead th {\n",
       "        text-align: right;\n",
       "    }\n",
       "</style>\n",
       "<table border=\"1\" class=\"dataframe\">\n",
       "  <thead>\n",
       "    <tr style=\"text-align: right;\">\n",
       "      <th></th>\n",
       "      <th>Estimated Incremental Cost,\\nPer Visitor/Per Night</th>\n",
       "    </tr>\n",
       "    <tr>\n",
       "      <th>Amenity</th>\n",
       "      <th></th>\n",
       "    </tr>\n",
       "  </thead>\n",
       "  <tbody>\n",
       "    <tr>\n",
       "      <th>VIP_shop</th>\n",
       "      <td>12.00</td>\n",
       "    </tr>\n",
       "    <tr>\n",
       "      <th>WiFi_Network</th>\n",
       "      <td>47.15</td>\n",
       "    </tr>\n",
       "    <tr>\n",
       "      <th>air_pure</th>\n",
       "      <td>12.85</td>\n",
       "    </tr>\n",
       "    <tr>\n",
       "      <th>breakfast</th>\n",
       "      <td>35.70</td>\n",
       "    </tr>\n",
       "    <tr>\n",
       "      <th>flex_check</th>\n",
       "      <td>12.00</td>\n",
       "    </tr>\n",
       "    <tr>\n",
       "      <th>gym</th>\n",
       "      <td>110.00</td>\n",
       "    </tr>\n",
       "    <tr>\n",
       "      <th>jacuzzi</th>\n",
       "      <td>40.00</td>\n",
       "    </tr>\n",
       "    <tr>\n",
       "      <th>parking</th>\n",
       "      <td>75.00</td>\n",
       "    </tr>\n",
       "    <tr>\n",
       "      <th>pool temp</th>\n",
       "      <td>95.00</td>\n",
       "    </tr>\n",
       "    <tr>\n",
       "      <th>shuttle_bus</th>\n",
       "      <td>75.00</td>\n",
       "    </tr>\n",
       "  </tbody>\n",
       "</table>\n",
       "</div>"
      ],
      "text/plain": [
       "              Estimated Incremental Cost,\\nPer Visitor/Per Night\n",
       "Amenity                                                         \n",
       "VIP_shop                                                  12.00 \n",
       "WiFi_Network                                              47.15 \n",
       "air_pure                                                  12.85 \n",
       "breakfast                                                 35.70 \n",
       "flex_check                                                12.00 \n",
       "gym                                                      110.00 \n",
       "jacuzzi                                                   40.00 \n",
       "parking                                                   75.00 \n",
       "pool temp                                                 95.00 \n",
       "shuttle_bus                                               75.00 "
      ]
     },
     "execution_count": 8,
     "metadata": {},
     "output_type": "execute_result"
    }
   ],
   "source": [
    "dataset.groupby([\"Amenity\"])[[\"Estimated Incremental Cost,\\nPer Visitor/Per Night\"]].sum()"
   ]
  },
  {
   "cell_type": "code",
   "execution_count": 9,
   "id": "4a1f708a",
   "metadata": {},
   "outputs": [
    {
     "data": {
      "text/html": [
       "<div>\n",
       "<style scoped>\n",
       "    .dataframe tbody tr th:only-of-type {\n",
       "        vertical-align: middle;\n",
       "    }\n",
       "\n",
       "    .dataframe tbody tr th {\n",
       "        vertical-align: top;\n",
       "    }\n",
       "\n",
       "    .dataframe thead th {\n",
       "        text-align: right;\n",
       "    }\n",
       "</style>\n",
       "<table border=\"1\" class=\"dataframe\">\n",
       "  <thead>\n",
       "    <tr style=\"text-align: right;\">\n",
       "      <th></th>\n",
       "      <th></th>\n",
       "      <th>Estimated Incremental Cost,\\nPer Visitor/Per Night</th>\n",
       "    </tr>\n",
       "    <tr>\n",
       "      <th>Amenity</th>\n",
       "      <th>Level</th>\n",
       "      <th></th>\n",
       "    </tr>\n",
       "  </thead>\n",
       "  <tbody>\n",
       "    <tr>\n",
       "      <th rowspan=\"2\" valign=\"top\">VIP_shop</th>\n",
       "      <th>No</th>\n",
       "      <td>0.00</td>\n",
       "    </tr>\n",
       "    <tr>\n",
       "      <th>Yes</th>\n",
       "      <td>12.00</td>\n",
       "    </tr>\n",
       "    <tr>\n",
       "      <th rowspan=\"3\" valign=\"top\">WiFi_Network</th>\n",
       "      <th>Basic</th>\n",
       "      <td>11.75</td>\n",
       "    </tr>\n",
       "    <tr>\n",
       "      <th>Best in Class</th>\n",
       "      <td>19.15</td>\n",
       "    </tr>\n",
       "    <tr>\n",
       "      <th>Strong</th>\n",
       "      <td>16.25</td>\n",
       "    </tr>\n",
       "    <tr>\n",
       "      <th rowspan=\"2\" valign=\"top\">air_pure</th>\n",
       "      <th>No</th>\n",
       "      <td>0.00</td>\n",
       "    </tr>\n",
       "    <tr>\n",
       "      <th>Yes</th>\n",
       "      <td>12.85</td>\n",
       "    </tr>\n",
       "    <tr>\n",
       "      <th rowspan=\"3\" valign=\"top\">breakfast</th>\n",
       "      <th>Continental</th>\n",
       "      <td>13.25</td>\n",
       "    </tr>\n",
       "    <tr>\n",
       "      <th>Full Buffet</th>\n",
       "      <td>22.45</td>\n",
       "    </tr>\n",
       "    <tr>\n",
       "      <th>None</th>\n",
       "      <td>0.00</td>\n",
       "    </tr>\n",
       "    <tr>\n",
       "      <th rowspan=\"2\" valign=\"top\">flex_check</th>\n",
       "      <th>No</th>\n",
       "      <td>0.00</td>\n",
       "    </tr>\n",
       "    <tr>\n",
       "      <th>Yes</th>\n",
       "      <td>12.00</td>\n",
       "    </tr>\n",
       "    <tr>\n",
       "      <th rowspan=\"4\" valign=\"top\">gym</th>\n",
       "      <th>Advanced</th>\n",
       "      <td>35.00</td>\n",
       "    </tr>\n",
       "    <tr>\n",
       "      <th>Basic</th>\n",
       "      <td>10.00</td>\n",
       "    </tr>\n",
       "    <tr>\n",
       "      <th>None</th>\n",
       "      <td>0.00</td>\n",
       "    </tr>\n",
       "    <tr>\n",
       "      <th>Super</th>\n",
       "      <td>65.00</td>\n",
       "    </tr>\n",
       "    <tr>\n",
       "      <th rowspan=\"2\" valign=\"top\">jacuzzi</th>\n",
       "      <th>No</th>\n",
       "      <td>0.00</td>\n",
       "    </tr>\n",
       "    <tr>\n",
       "      <th>Yes</th>\n",
       "      <td>40.00</td>\n",
       "    </tr>\n",
       "    <tr>\n",
       "      <th rowspan=\"2\" valign=\"top\">parking</th>\n",
       "      <th>Open Lot</th>\n",
       "      <td>15.00</td>\n",
       "    </tr>\n",
       "    <tr>\n",
       "      <th>Valet</th>\n",
       "      <td>60.00</td>\n",
       "    </tr>\n",
       "    <tr>\n",
       "      <th rowspan=\"3\" valign=\"top\">pool temp</th>\n",
       "      <th>76</th>\n",
       "      <td>15.00</td>\n",
       "    </tr>\n",
       "    <tr>\n",
       "      <th>80</th>\n",
       "      <td>35.00</td>\n",
       "    </tr>\n",
       "    <tr>\n",
       "      <th>84</th>\n",
       "      <td>45.00</td>\n",
       "    </tr>\n",
       "    <tr>\n",
       "      <th rowspan=\"2\" valign=\"top\">shuttle_bus</th>\n",
       "      <th>No</th>\n",
       "      <td>0.00</td>\n",
       "    </tr>\n",
       "    <tr>\n",
       "      <th>Yes</th>\n",
       "      <td>75.00</td>\n",
       "    </tr>\n",
       "  </tbody>\n",
       "</table>\n",
       "</div>"
      ],
      "text/plain": [
       "                            Estimated Incremental Cost,\\nPer Visitor/Per Night\n",
       "Amenity      Level                                                            \n",
       "VIP_shop     No                                                          0.00 \n",
       "             Yes                                                        12.00 \n",
       "WiFi_Network Basic                                                      11.75 \n",
       "             Best in Class                                              19.15 \n",
       "             Strong                                                     16.25 \n",
       "air_pure     No                                                          0.00 \n",
       "             Yes                                                        12.85 \n",
       "breakfast    Continental                                                13.25 \n",
       "             Full Buffet                                                22.45 \n",
       "             None                                                        0.00 \n",
       "flex_check   No                                                          0.00 \n",
       "             Yes                                                        12.00 \n",
       "gym          Advanced                                                   35.00 \n",
       "             Basic                                                      10.00 \n",
       "             None                                                        0.00 \n",
       "             Super                                                      65.00 \n",
       "jacuzzi      No                                                          0.00 \n",
       "             Yes                                                        40.00 \n",
       "parking      Open Lot                                                   15.00 \n",
       "             Valet                                                      60.00 \n",
       "pool temp    76                                                         15.00 \n",
       "             80                                                         35.00 \n",
       "             84                                                         45.00 \n",
       "shuttle_bus  No                                                          0.00 \n",
       "             Yes                                                        75.00 "
      ]
     },
     "execution_count": 9,
     "metadata": {},
     "output_type": "execute_result"
    }
   ],
   "source": [
    "pd.pivot_table(dataset,index=[\"Amenity\",\"Level\"])"
   ]
  },
  {
   "cell_type": "code",
   "execution_count": 10,
   "id": "817abdd9",
   "metadata": {},
   "outputs": [
    {
     "data": {
      "text/plain": [
       "<AxesSubplot:>"
      ]
     },
     "execution_count": 10,
     "metadata": {},
     "output_type": "execute_result"
    },
    {
     "data": {
      "image/png": "[encoded data removed]",
      "text/plain": [
       "<Figure size 432x288 with 1 Axes>"
      ]
     },
     "metadata": {
      "needs_background": "light"
     },
     "output_type": "display_data"
    }
   ],
   "source": [
    "dataset.plot()"
   ]
  },
  {
   "cell_type": "code",
   "execution_count": 11,
   "id": "5af2ab65",
   "metadata": {},
   "outputs": [
    {
     "data": {
      "text/html": [
       "<div>\n",
       "<style scoped>\n",
       "    .dataframe tbody tr th:only-of-type {\n",
       "        vertical-align: middle;\n",
       "    }\n",
       "\n",
       "    .dataframe tbody tr th {\n",
       "        vertical-align: top;\n",
       "    }\n",
       "\n",
       "    .dataframe thead th {\n",
       "        text-align: right;\n",
       "    }\n",
       "</style>\n",
       "<table border=\"1\" class=\"dataframe\">\n",
       "  <thead>\n",
       "    <tr style=\"text-align: right;\">\n",
       "      <th></th>\n",
       "      <th>0</th>\n",
       "      <th>1</th>\n",
       "      <th>2</th>\n",
       "      <th>3</th>\n",
       "      <th>4</th>\n",
       "      <th>5</th>\n",
       "      <th>6</th>\n",
       "      <th>7</th>\n",
       "      <th>8</th>\n",
       "      <th>9</th>\n",
       "      <th>...</th>\n",
       "      <th>15</th>\n",
       "      <th>16</th>\n",
       "      <th>17</th>\n",
       "      <th>18</th>\n",
       "      <th>19</th>\n",
       "      <th>20</th>\n",
       "      <th>21</th>\n",
       "      <th>22</th>\n",
       "      <th>23</th>\n",
       "      <th>24</th>\n",
       "    </tr>\n",
       "  </thead>\n",
       "  <tbody>\n",
       "    <tr>\n",
       "      <th>Amenity</th>\n",
       "      <td>WiFi_Network</td>\n",
       "      <td>WiFi_Network</td>\n",
       "      <td>WiFi_Network</td>\n",
       "      <td>breakfast</td>\n",
       "      <td>breakfast</td>\n",
       "      <td>breakfast</td>\n",
       "      <td>parking</td>\n",
       "      <td>parking</td>\n",
       "      <td>gym</td>\n",
       "      <td>gym</td>\n",
       "      <td>...</td>\n",
       "      <td>shuttle_bus</td>\n",
       "      <td>air_pure</td>\n",
       "      <td>air_pure</td>\n",
       "      <td>jacuzzi</td>\n",
       "      <td>jacuzzi</td>\n",
       "      <td>VIP_shop</td>\n",
       "      <td>VIP_shop</td>\n",
       "      <td>pool temp</td>\n",
       "      <td>pool temp</td>\n",
       "      <td>pool temp</td>\n",
       "    </tr>\n",
       "    <tr>\n",
       "      <th>Level</th>\n",
       "      <td>Basic</td>\n",
       "      <td>Strong</td>\n",
       "      <td>Best in Class</td>\n",
       "      <td>None</td>\n",
       "      <td>Continental</td>\n",
       "      <td>Full Buffet</td>\n",
       "      <td>Valet</td>\n",
       "      <td>Open Lot</td>\n",
       "      <td>None</td>\n",
       "      <td>Basic</td>\n",
       "      <td>...</td>\n",
       "      <td>Yes</td>\n",
       "      <td>No</td>\n",
       "      <td>Yes</td>\n",
       "      <td>No</td>\n",
       "      <td>Yes</td>\n",
       "      <td>No</td>\n",
       "      <td>Yes</td>\n",
       "      <td>76</td>\n",
       "      <td>80</td>\n",
       "      <td>84</td>\n",
       "    </tr>\n",
       "    <tr>\n",
       "      <th>Estimated Incremental Cost,\\nPer Visitor/Per Night</th>\n",
       "      <td>11.75</td>\n",
       "      <td>16.25</td>\n",
       "      <td>19.15</td>\n",
       "      <td>0.0</td>\n",
       "      <td>13.25</td>\n",
       "      <td>22.45</td>\n",
       "      <td>60.0</td>\n",
       "      <td>15.0</td>\n",
       "      <td>0.0</td>\n",
       "      <td>10.0</td>\n",
       "      <td>...</td>\n",
       "      <td>75.0</td>\n",
       "      <td>0.0</td>\n",
       "      <td>12.85</td>\n",
       "      <td>0.0</td>\n",
       "      <td>40.0</td>\n",
       "      <td>0.0</td>\n",
       "      <td>12.0</td>\n",
       "      <td>15.0</td>\n",
       "      <td>35.0</td>\n",
       "      <td>45.0</td>\n",
       "    </tr>\n",
       "  </tbody>\n",
       "</table>\n",
       "<p>3 rows × 25 columns</p>\n",
       "</div>"
      ],
      "text/plain": [
       "                                                              0   \\\n",
       "Amenity                                             WiFi_Network   \n",
       "Level                                                      Basic   \n",
       "Estimated Incremental Cost,\\nPer Visitor/Per Night         11.75   \n",
       "\n",
       "                                                              1   \\\n",
       "Amenity                                             WiFi_Network   \n",
       "Level                                                     Strong   \n",
       "Estimated Incremental Cost,\\nPer Visitor/Per Night         16.25   \n",
       "\n",
       "                                                               2          3   \\\n",
       "Amenity                                              WiFi_Network  breakfast   \n",
       "Level                                               Best in Class       None   \n",
       "Estimated Incremental Cost,\\nPer Visitor/Per Night          19.15        0.0   \n",
       "\n",
       "                                                             4            5   \\\n",
       "Amenity                                               breakfast    breakfast   \n",
       "Level                                               Continental  Full Buffet   \n",
       "Estimated Incremental Cost,\\nPer Visitor/Per Night        13.25        22.45   \n",
       "\n",
       "                                                         6         7     8   \\\n",
       "Amenity                                             parking   parking   gym   \n",
       "Level                                                 Valet  Open Lot  None   \n",
       "Estimated Incremental Cost,\\nPer Visitor/Per Night     60.0      15.0   0.0   \n",
       "\n",
       "                                                       9   ...           15  \\\n",
       "Amenity                                               gym  ...  shuttle_bus   \n",
       "Level                                               Basic  ...          Yes   \n",
       "Estimated Incremental Cost,\\nPer Visitor/Per Night   10.0  ...         75.0   \n",
       "\n",
       "                                                          16        17  \\\n",
       "Amenity                                             air_pure  air_pure   \n",
       "Level                                                     No       Yes   \n",
       "Estimated Incremental Cost,\\nPer Visitor/Per Night       0.0     12.85   \n",
       "\n",
       "                                                         18       19  \\\n",
       "Amenity                                             jacuzzi  jacuzzi   \n",
       "Level                                                    No      Yes   \n",
       "Estimated Incremental Cost,\\nPer Visitor/Per Night      0.0     40.0   \n",
       "\n",
       "                                                          20        21  \\\n",
       "Amenity                                             VIP_shop  VIP_shop   \n",
       "Level                                                     No       Yes   \n",
       "Estimated Incremental Cost,\\nPer Visitor/Per Night       0.0      12.0   \n",
       "\n",
       "                                                           22         23  \\\n",
       "Amenity                                             pool temp  pool temp   \n",
       "Level                                                      76         80   \n",
       "Estimated Incremental Cost,\\nPer Visitor/Per Night       15.0       35.0   \n",
       "\n",
       "                                                           24  \n",
       "Amenity                                             pool temp  \n",
       "Level                                                      84  \n",
       "Estimated Incremental Cost,\\nPer Visitor/Per Night       45.0  \n",
       "\n",
       "[3 rows x 25 columns]"
      ]
     },
     "execution_count": 11,
     "metadata": {},
     "output_type": "execute_result"
    }
   ],
   "source": [
    "dft = dataset.T\n",
    "dft"
   ]
  },
  {
   "cell_type": "code",
   "execution_count": 12,
   "id": "58e0f715",
   "metadata": {},
   "outputs": [
    {
     "name": "stdout",
     "output_type": "stream",
     "text": [
      "[0, 1, 2, 3, 4, 5, 6, 7, 8, 9, 10, 11, 12, 13, 14, 15, 16, 17, 18, 19, 20, 21, 22, 23, 24]\n"
     ]
    }
   ],
   "source": [
    "column_list = list(dft)\n",
    "print(column_list)"
   ]
  },
  {
   "cell_type": "code",
   "execution_count": 13,
   "id": "750be054",
   "metadata": {},
   "outputs": [
    {
     "name": "stdout",
     "output_type": "stream",
     "text": [
      "[2, 4, 7, 10, 13, 15, 17, 19, 21, 22]\n"
     ]
    }
   ],
   "source": [
    "column_list.remove(0)\n",
    "column_list.remove(1)\n",
    "column_list.remove(3)\n",
    "column_list.remove(5)\n",
    "column_list.remove(6)\n",
    "column_list.remove(8)\n",
    "column_list.remove(9)\n",
    "column_list.remove(11)\n",
    "column_list.remove(12)\n",
    "column_list.remove(14)\n",
    "column_list.remove(16)\n",
    "column_list.remove(18)\n",
    "column_list.remove(20)\n",
    "column_list.remove(23)\n",
    "column_list.remove(24)\n",
    "print(column_list)"
   ]
  },
  {
   "cell_type": "code",
   "execution_count": 14,
   "id": "de6fdf6e",
   "metadata": {},
   "outputs": [
    {
     "data": {
      "text/plain": [
       "Amenity                                               WiFi_Networkbreakfastparkinggymflex_checkshutt...\n",
       "Level                                                 Best in ClassContinentalOpen LotAdvancedYesYes...\n",
       "Estimated Incremental Cost,\\nPer Visitor/Per Night                                               249.25\n",
       "Name: sum, dtype: object"
      ]
     },
     "execution_count": 14,
     "metadata": {},
     "output_type": "execute_result"
    }
   ],
   "source": [
    "dft[\"sum\"] = dft[column_list].sum(axis = 1)\n",
    "dft[\"sum\"]"
   ]
  },
  {
   "cell_type": "code",
   "execution_count": 28,
   "id": "28ba9ace",
   "metadata": {},
   "outputs": [
    {
     "data": {
      "image/png": "[encoded data removed]",
      "text/plain": [
       "<Figure size 1008x576 with 1 Axes>"
      ]
     },
     "metadata": {
      "needs_background": "light"
     },
     "output_type": "display_data"
    }
   ],
   "source": [
    "df_res = pd.DataFrame({\n",
    "    'param_name': linearRegression.params.keys()\n",
    "    , 'param_w': linearRegression.params.values\n",
    "    , 'pval': linearRegression.pvalues\n",
    "})\n",
    "# adding field for absolute of parameters\n",
    "df_res['abs_param_w'] = np.abs(df_res['param_w'])\n",
    "# marking field is significant under 95% confidence interval\n",
    "df_res['is_sig_95'] = (df_res['pval'] < 0.05)\n",
    "# constructing color naming for each param\n",
    "df_res['c'] = ['blue' if x else 'red' for x in df_res['is_sig_95']]\n",
    "\n",
    "# make it sorted by abs of parameter value\n",
    "df_res = df_res.sort_values(by='abs_param_w', ascending=True)\n",
    "f, ax = plt.subplots(figsize=(14, 8))\n",
    "plt.title('Part Worth')\n",
    "pwu = df_res['param_w']\n",
    "xbar = np.arange(len(pwu))\n",
    "plt.barh(xbar, pwu, color=df_res['c'])\n",
    "plt.yticks(xbar, labels=df_res['param_name'])\n",
    "plt.show()"
   ]
  },
  {
   "cell_type": "code",
   "execution_count": 29,
   "id": "2e0a33e5",
   "metadata": {},
   "outputs": [
    {
     "data": {
      "image/png": "[encoded data removed]",
      "text/plain": [
       "<Figure size 864x576 with 1 Axes>"
      ]
     },
     "metadata": {
      "needs_background": "light"
     },
     "output_type": "display_data"
    }
   ],
   "source": [
    "# need to assemble per attribute for every level of that attribute in dicionary\n",
    "range_per_feature = dict()\n",
    "for key, coeff in linearRegression.params.items():\n",
    "    sk =  key.split('_')\n",
    "    feature = sk[0]\n",
    "    if len(sk) == 1:\n",
    "        feature = key\n",
    "    if feature not in range_per_feature:\n",
    "        range_per_feature[feature] = list()\n",
    "        \n",
    "    range_per_feature[feature].append(coeff)\n",
    "# importance per feature is range of coef in a feature\n",
    "# while range is simply max(x) - min(x)\n",
    "importance_per_feature = {\n",
    "    k: max(v) - min(v) for k, v in range_per_feature.items()\n",
    "}\n",
    "\n",
    "# compute relative importance per feature\n",
    "# or normalized feature importance by dividing \n",
    "# sum of importance for all features\n",
    "total_feature_importance = sum(importance_per_feature.values())\n",
    "relative_importance_per_feature = {\n",
    "    k: 100 * round(v/total_feature_importance, 3) for k, v in importance_per_feature.items()\n",
    "}\n",
    "\n",
    "alt_data = pd.DataFrame(\n",
    "    list(importance_per_feature.items()), \n",
    "    columns=['attr', 'importance']\n",
    ").sort_values(by='importance', ascending=False)\n",
    "\n",
    "\n",
    "f, ax = plt.subplots(figsize=(12, 8))\n",
    "xbar = np.arange(len(alt_data['attr']))\n",
    "plt.title('Importance')\n",
    "plt.barh(xbar, alt_data['importance'])\n",
    "for i, v in enumerate(alt_data['importance']):\n",
    "    ax.text(v , i + .25, '{:.2f}'.format(v))\n",
    "plt.ylabel('attributes')\n",
    "plt.xlabel('% importance')\n",
    "plt.yticks(xbar, alt_data['attr'])\n",
    "plt.show()"
   ]
  },
  {
   "cell_type": "markdown",
   "id": "8eab5781",
   "metadata": {},
   "source": [
    "# Conjoint Analysis"
   ]
  },
  {
   "cell_type": "markdown",
   "id": "c27fb01f",
   "metadata": {},
   "source": [
    "Conjoint Analysis is a technique used to understand preference or relative importance given to various attributes of a product by the customer while making purchase decisions.Here, wee do some conjoint analysis and plot some graph of conjoint analysis."
   ]
  },
  {
   "cell_type": "markdown",
   "id": "4604f061",
   "metadata": {},
   "source": [
    "*Recommndations About New Hotel:*"
   ]
  },
  {
   "cell_type": "markdown",
   "id": "d96b12ed",
   "metadata": {},
   "source": [
    "Here, we have some recommendations about new hotel. You need to add some facilities for the customers. The some facilities are strong WiFi Network, Continential Breakfast, Parking OpenLot, gym Advanced, flex_check, shuttle bus, pure air, jacuzzi, Vip Shop, pool temperature is 76. If we provide these facilities to the customers, then we make a new luxiours hotel. in this luxiours hotel, you earn 250$ per night."
   ]
  },
  {
   "cell_type": "markdown",
   "id": "bf290fe9",
   "metadata": {},
   "source": [
    "# Forecasting Net Income"
   ]
  },
  {
   "cell_type": "code",
   "execution_count": 28,
   "id": "8f529ae1",
   "metadata": {},
   "outputs": [
    {
     "data": {
      "text/html": [
       "<div>\n",
       "<style scoped>\n",
       "    .dataframe tbody tr th:only-of-type {\n",
       "        vertical-align: middle;\n",
       "    }\n",
       "\n",
       "    .dataframe tbody tr th {\n",
       "        vertical-align: top;\n",
       "    }\n",
       "\n",
       "    .dataframe thead th {\n",
       "        text-align: right;\n",
       "    }\n",
       "</style>\n",
       "<table border=\"1\" class=\"dataframe\">\n",
       "  <thead>\n",
       "    <tr style=\"text-align: right;\">\n",
       "      <th></th>\n",
       "      <th>Date</th>\n",
       "      <th>NetIncome</th>\n",
       "    </tr>\n",
       "  </thead>\n",
       "  <tbody>\n",
       "    <tr>\n",
       "      <th>0</th>\n",
       "      <td>3/31/2021</td>\n",
       "      <td>901.0</td>\n",
       "    </tr>\n",
       "    <tr>\n",
       "      <th>1</th>\n",
       "      <td>12/31/2020</td>\n",
       "      <td>17.0</td>\n",
       "    </tr>\n",
       "    <tr>\n",
       "      <th>2</th>\n",
       "      <td>9/30/2020</td>\n",
       "      <td>-710.0</td>\n",
       "    </tr>\n",
       "    <tr>\n",
       "      <th>3</th>\n",
       "      <td>6/30/2020</td>\n",
       "      <td>-4721.0</td>\n",
       "    </tr>\n",
       "    <tr>\n",
       "      <th>4</th>\n",
       "      <td>3/31/2020</td>\n",
       "      <td>460.0</td>\n",
       "    </tr>\n",
       "  </tbody>\n",
       "</table>\n",
       "</div>"
      ],
      "text/plain": [
       "         Date  NetIncome\n",
       "0   3/31/2021      901.0\n",
       "1  12/31/2020       17.0\n",
       "2   9/30/2020     -710.0\n",
       "3   6/30/2020    -4721.0\n",
       "4   3/31/2020      460.0"
      ]
     },
     "execution_count": 28,
     "metadata": {},
     "output_type": "execute_result"
    }
   ],
   "source": [
    "df = pd.read_csv(\"C:/Users/sa/Documents/fid_416603781_files (1)/file-416603781-annual-report(31).csv\")\n",
    "df.head()"
   ]
  },
  {
   "cell_type": "code",
   "execution_count": 29,
   "id": "caeaebac",
   "metadata": {},
   "outputs": [
    {
     "name": "stdout",
     "output_type": "stream",
     "text": [
      "<class 'pandas.core.frame.DataFrame'>\n",
      "RangeIndex: 40 entries, 0 to 39\n",
      "Data columns (total 2 columns):\n",
      " #   Column     Non-Null Count  Dtype  \n",
      "---  ------     --------------  -----  \n",
      " 0   Date       40 non-null     object \n",
      " 1   NetIncome  40 non-null     float64\n",
      "dtypes: float64(1), object(1)\n",
      "memory usage: 768.0+ bytes\n"
     ]
    }
   ],
   "source": [
    "df.info()"
   ]
  },
  {
   "cell_type": "code",
   "execution_count": 30,
   "id": "970ee47c",
   "metadata": {},
   "outputs": [
    {
     "name": "stdout",
     "output_type": "stream",
     "text": [
      "<class 'pandas.core.frame.DataFrame'>\n",
      "RangeIndex: 40 entries, 0 to 39\n",
      "Data columns (total 2 columns):\n",
      " #   Column     Non-Null Count  Dtype         \n",
      "---  ------     --------------  -----         \n",
      " 0   Date       40 non-null     datetime64[ns]\n",
      " 1   NetIncome  40 non-null     float64       \n",
      "dtypes: datetime64[ns](1), float64(1)\n",
      "memory usage: 768.0 bytes\n"
     ]
    }
   ],
   "source": [
    "df['Date']= pd.to_datetime(df['Date'])\n",
    "df['NetIncome'].astype(float)\n",
    " \n",
    "# Check the format of 'Date' column\n",
    "df.info()"
   ]
  },
  {
   "cell_type": "code",
   "execution_count": 33,
   "id": "8127a8ae",
   "metadata": {},
   "outputs": [],
   "source": [
    "df = df.groupby('Date')['NetIncome'].sum().reset_index()"
   ]
  },
  {
   "cell_type": "code",
   "execution_count": 34,
   "id": "2904cee5",
   "metadata": {},
   "outputs": [
    {
     "data": {
      "text/plain": [
       "DatetimeIndex(['2011-06-30', '2011-09-30', '2011-12-31', '2012-03-31',\n",
       "               '2012-06-30', '2012-09-30', '2012-12-31', '2013-03-31',\n",
       "               '2013-06-30', '2013-09-30', '2013-12-31', '2014-03-31',\n",
       "               '2014-06-30', '2014-09-30', '2014-12-31', '2015-03-31',\n",
       "               '2015-06-30', '2015-09-30', '2015-12-31', '2016-03-31',\n",
       "               '2016-06-30', '2016-09-30', '2016-12-31', '2017-03-31',\n",
       "               '2017-06-30', '2017-09-30', '2017-12-31', '2018-03-31',\n",
       "               '2018-06-30', '2018-09-30', '2018-12-31', '2019-03-31',\n",
       "               '2019-06-30', '2019-09-30', '2019-12-31', '2020-03-31',\n",
       "               '2020-06-30', '2020-09-30', '2020-12-31', '2021-03-31'],\n",
       "              dtype='datetime64[ns]', name='Date', freq=None)"
      ]
     },
     "execution_count": 34,
     "metadata": {},
     "output_type": "execute_result"
    }
   ],
   "source": [
    "df = df.set_index('Date')\n",
    "df.index"
   ]
  },
  {
   "cell_type": "code",
   "execution_count": 35,
   "id": "3bc9f98f",
   "metadata": {},
   "outputs": [
    {
     "data": {
      "text/plain": [
       "Date\n",
       "2020-01-01       NaN\n",
       "2020-02-01       NaN\n",
       "2020-03-01     460.0\n",
       "2020-04-01       NaN\n",
       "2020-05-01       NaN\n",
       "2020-06-01   -4721.0\n",
       "2020-07-01       NaN\n",
       "2020-08-01       NaN\n",
       "2020-09-01    -710.0\n",
       "2020-10-01       NaN\n",
       "2020-11-01       NaN\n",
       "2020-12-01      17.0\n",
       "2021-01-01       NaN\n",
       "2021-02-01       NaN\n",
       "2021-03-01     901.0\n",
       "Freq: MS, Name: NetIncome, dtype: float64"
      ]
     },
     "execution_count": 35,
     "metadata": {},
     "output_type": "execute_result"
    }
   ],
   "source": [
    "y = df['NetIncome'].resample('MS').mean()\n",
    "y['2020':]"
   ]
  },
  {
   "cell_type": "code",
   "execution_count": 37,
   "id": "4b21aefe",
   "metadata": {},
   "outputs": [
    {
     "data": {
      "image/png": "[encoded data removed]",
      "text/plain": [
       "<Figure size 1080x432 with 1 Axes>"
      ]
     },
     "metadata": {
      "needs_background": "light"
     },
     "output_type": "display_data"
    }
   ],
   "source": [
    "df.plot(figsize=(15, 6))\n",
    "plt.show()"
   ]
  },
  {
   "cell_type": "code",
   "execution_count": 38,
   "id": "829fd80c",
   "metadata": {},
   "outputs": [
    {
     "name": "stdout",
     "output_type": "stream",
     "text": [
      "Examples of parameter combinations for Seasonal ARIMA...\n",
      "SARIMAX: (0, 0, 1) x (0, 0, 1, 12)\n",
      "SARIMAX: (0, 0, 1) x (0, 1, 0, 12)\n",
      "SARIMAX: (0, 1, 0) x (0, 1, 1, 12)\n",
      "SARIMAX: (0, 1, 0) x (1, 0, 0, 12)\n"
     ]
    }
   ],
   "source": [
    "import itertools\n",
    "import statsmodels.api as sm\n",
    "\n",
    "p = d = q = range(0, 2)\n",
    "pdq = list(itertools.product(p, d, q))\n",
    "seasonal_pdq = [(x[0], x[1], x[2], 12) for x in list(itertools.product(p, d, q))]\n",
    "print('Examples of parameter combinations for Seasonal ARIMA...')\n",
    "print('SARIMAX: {} x {}'.format(pdq[1], seasonal_pdq[1]))\n",
    "print('SARIMAX: {} x {}'.format(pdq[1], seasonal_pdq[2]))\n",
    "print('SARIMAX: {} x {}'.format(pdq[2], seasonal_pdq[3]))\n",
    "print('SARIMAX: {} x {}'.format(pdq[2], seasonal_pdq[4]))"
   ]
  },
  {
   "cell_type": "code",
   "execution_count": 39,
   "id": "1bc19afd",
   "metadata": {},
   "outputs": [],
   "source": [
    "import warnings\n",
    "warnings.filterwarnings(\"ignore\")\n",
    "for param in pdq:\n",
    "    for param_seasonal in seasonal_pdq:\n",
    "        try:\n",
    "            mod = sm.tsa.statespace.SARIMAX(y,\n",
    "                                            order=param,\n",
    "                                            seasonal_order=param_seasonal,\n",
    "                                            enforce_stationarity=False,\n",
    "                                            enforce_invertibility=False)\n",
    "            results = mod.fit()\n",
    "        except:\n",
    "            continue"
   ]
  },
  {
   "cell_type": "code",
   "execution_count": 40,
   "id": "79bb90f3",
   "metadata": {},
   "outputs": [
    {
     "name": "stdout",
     "output_type": "stream",
     "text": [
      "==============================================================================\n",
      "                 coef    std err          z      P>|z|      [0.025      0.975]\n",
      "------------------------------------------------------------------------------\n",
      "ar.L1         -0.7191      0.319     -2.253      0.024      -1.345      -0.093\n",
      "ma.L1         31.4584    550.946      0.057      0.954   -1048.375    1111.292\n",
      "ar.S.L12      -0.6646      0.217     -3.060      0.002      -1.090      -0.239\n",
      "sigma2       961.4563   3.33e+04      0.029      0.977   -6.44e+04    6.63e+04\n",
      "==============================================================================\n"
     ]
    }
   ],
   "source": [
    "mod = sm.tsa.statespace.SARIMAX(y,\n",
    "                                order=(1, 1, 1),\n",
    "                                seasonal_order=(1, 1, 0, 12),\n",
    "                                enforce_stationarity=False,\n",
    "                                enforce_invertibility=False)\n",
    "results = mod.fit()\n",
    "print(results.summary().tables[1])"
   ]
  },
  {
   "cell_type": "code",
   "execution_count": 41,
   "id": "b45696ee",
   "metadata": {},
   "outputs": [
    {
     "data": {
      "image/png": "[encoded data removed]",
      "text/plain": [
       "<Figure size 1152x576 with 4 Axes>"
      ]
     },
     "metadata": {
      "needs_background": "light"
     },
     "output_type": "display_data"
    }
   ],
   "source": [
    "results.plot_diagnostics(figsize=(16, 8))\n",
    "plt.show()"
   ]
  },
  {
   "cell_type": "code",
   "execution_count": 42,
   "id": "c913506e",
   "metadata": {},
   "outputs": [
    {
     "data": {
      "image/png": "[encoded data removed]",
      "text/plain": [
       "<Figure size 432x288 with 1 Axes>"
      ]
     },
     "metadata": {
      "needs_background": "light"
     },
     "output_type": "display_data"
    }
   ],
   "source": [
    "pred = results.get_prediction(start=pd.to_datetime('2020-01-01 00:00:00'), dynamic=False)\n",
    "pred_ci = pred.conf_int()\n",
    "ax = y['2020':].plot(label='observed')\n",
    "pred.predicted_mean.plot(ax=ax, label='One-step ahead Forecast')\n",
    "ax.fill_between(pred_ci.index,\n",
    "                pred_ci.iloc[:, 0],\n",
    "                pred_ci.iloc[:, 1], color='k', alpha  = .2)\n",
    "ax.set_xlabel('Date')\n",
    "ax.set_ylabel('Net Income')\n",
    "plt.legend()\n",
    "plt.show()"
   ]
  },
  {
   "cell_type": "code",
   "execution_count": 43,
   "id": "3c917258",
   "metadata": {},
   "outputs": [
    {
     "name": "stdout",
     "output_type": "stream",
     "text": [
      "The Mean Squared Error of our forecasts is 7454485.67\n"
     ]
    },
    {
     "data": {
      "text/plain": [
       "Date\n",
       "2020-01-01    1967.640309\n",
       "2020-02-01    1723.535225\n",
       "2020-03-01    2342.668061\n",
       "2020-04-01      84.646974\n",
       "2020-05-01    -408.981505\n",
       "2020-06-01    -211.411893\n",
       "2020-07-01   -2876.799463\n",
       "2020-08-01   -4342.780265\n",
       "2020-09-01   -3883.348231\n",
       "2020-10-01   -2379.618449\n",
       "2020-11-01    -721.492654\n",
       "2020-12-01   -1779.474592\n",
       "2021-01-01     484.901526\n",
       "2021-02-01    -673.354024\n",
       "2021-03-01    1207.829694\n",
       "Freq: MS, Name: predicted_mean, dtype: float64"
      ]
     },
     "execution_count": 43,
     "metadata": {},
     "output_type": "execute_result"
    }
   ],
   "source": [
    "y_forecasted = pred.predicted_mean\n",
    "y_truth = y['2020-01-01':]\n",
    "mse = ((y_forecasted - y_truth) ** 2).mean()\n",
    "print('The Mean Squared Error of our forecasts is {}'.format(round(mse, 2)))\n",
    "y_forecasted"
   ]
  },
  {
   "cell_type": "code",
   "execution_count": 44,
   "id": "46a5709a",
   "metadata": {},
   "outputs": [
    {
     "name": "stdout",
     "output_type": "stream",
     "text": [
      "The Root Mean Squared Error of our forecasts is 2730.29\n"
     ]
    }
   ],
   "source": [
    "print('The Root Mean Squared Error of our forecasts is {}'.format(round(np.sqrt(mse), 2)))"
   ]
  },
  {
   "cell_type": "code",
   "execution_count": 45,
   "id": "daf74cee",
   "metadata": {},
   "outputs": [
    {
     "data": {
      "image/png": "[encoded data removed]",
      "text/plain": [
       "<Figure size 720x360 with 1 Axes>"
      ]
     },
     "metadata": {
      "needs_background": "light"
     },
     "output_type": "display_data"
    }
   ],
   "source": [
    "pred_uc = results.get_forecast(steps=20)\n",
    "pred_ci = pred_uc.conf_int()\n",
    "ax = y.plot(label='observed', figsize=(10, 5), lw =2)\n",
    "pred_uc.predicted_mean.plot(ax=ax, label='Forecast')\n",
    "ax.fill_between(pred_ci.index,\n",
    "                pred_ci.iloc[:, 0],\n",
    "                pred_ci.iloc[:, 1], color='k', alpha=0.5)\n",
    "ax.set_xlabel('Date')\n",
    "ax.set_ylabel('Net Incomee')\n",
    "plt.legend()\n",
    "plt.show()"
   ]
  },
  {
   "cell_type": "code",
   "execution_count": 46,
   "id": "b1f5f6df",
   "metadata": {},
   "outputs": [
    {
     "data": {
      "text/html": [
       "<div>\n",
       "<style scoped>\n",
       "    .dataframe tbody tr th:only-of-type {\n",
       "        vertical-align: middle;\n",
       "    }\n",
       "\n",
       "    .dataframe tbody tr th {\n",
       "        vertical-align: top;\n",
       "    }\n",
       "\n",
       "    .dataframe thead th {\n",
       "        text-align: right;\n",
       "    }\n",
       "</style>\n",
       "<table border=\"1\" class=\"dataframe\">\n",
       "  <thead>\n",
       "    <tr style=\"text-align: right;\">\n",
       "      <th></th>\n",
       "      <th>lower NetIncome</th>\n",
       "      <th>upper NetIncome</th>\n",
       "    </tr>\n",
       "  </thead>\n",
       "  <tbody>\n",
       "    <tr>\n",
       "      <th>2021-04-01</th>\n",
       "      <td>-6352.124838</td>\n",
       "      <td>2216.183913</td>\n",
       "    </tr>\n",
       "    <tr>\n",
       "      <th>2021-05-01</th>\n",
       "      <td>-5034.267840</td>\n",
       "      <td>3036.564047</td>\n",
       "    </tr>\n",
       "    <tr>\n",
       "      <th>2021-06-01</th>\n",
       "      <td>-5897.223518</td>\n",
       "      <td>-434.276521</td>\n",
       "    </tr>\n",
       "    <tr>\n",
       "      <th>2021-07-01</th>\n",
       "      <td>-6182.941728</td>\n",
       "      <td>2977.790792</td>\n",
       "    </tr>\n",
       "    <tr>\n",
       "      <th>2021-08-01</th>\n",
       "      <td>-7522.124218</td>\n",
       "      <td>2346.252380</td>\n",
       "    </tr>\n",
       "    <tr>\n",
       "      <th>2021-09-01</th>\n",
       "      <td>-5558.775746</td>\n",
       "      <td>887.104420</td>\n",
       "    </tr>\n",
       "    <tr>\n",
       "      <th>2021-10-01</th>\n",
       "      <td>-7225.445435</td>\n",
       "      <td>3125.607276</td>\n",
       "    </tr>\n",
       "    <tr>\n",
       "      <th>2021-11-01</th>\n",
       "      <td>-7407.398038</td>\n",
       "      <td>3131.113832</td>\n",
       "    </tr>\n",
       "    <tr>\n",
       "      <th>2021-12-01</th>\n",
       "      <td>-5216.401051</td>\n",
       "      <td>2466.526026</td>\n",
       "    </tr>\n",
       "    <tr>\n",
       "      <th>2022-01-01</th>\n",
       "      <td>-7647.319766</td>\n",
       "      <td>3399.106041</td>\n",
       "    </tr>\n",
       "    <tr>\n",
       "      <th>2022-02-01</th>\n",
       "      <td>-8798.595191</td>\n",
       "      <td>2668.986421</td>\n",
       "    </tr>\n",
       "    <tr>\n",
       "      <th>2022-03-01</th>\n",
       "      <td>-6486.998172</td>\n",
       "      <td>2128.323231</td>\n",
       "    </tr>\n",
       "    <tr>\n",
       "      <th>2022-04-01</th>\n",
       "      <td>-11167.835035</td>\n",
       "      <td>917.679776</td>\n",
       "    </tr>\n",
       "    <tr>\n",
       "      <th>2022-05-01</th>\n",
       "      <td>-9899.396523</td>\n",
       "      <td>2221.484890</td>\n",
       "    </tr>\n",
       "    <tr>\n",
       "      <th>2022-06-01</th>\n",
       "      <td>-12187.076815</td>\n",
       "      <td>-1781.280231</td>\n",
       "    </tr>\n",
       "    <tr>\n",
       "      <th>2022-07-01</th>\n",
       "      <td>-10570.892935</td>\n",
       "      <td>2546.110150</td>\n",
       "    </tr>\n",
       "    <tr>\n",
       "      <th>2022-08-01</th>\n",
       "      <td>-12389.615073</td>\n",
       "      <td>1295.497032</td>\n",
       "    </tr>\n",
       "    <tr>\n",
       "      <th>2022-09-01</th>\n",
       "      <td>-9837.966590</td>\n",
       "      <td>1755.660616</td>\n",
       "    </tr>\n",
       "    <tr>\n",
       "      <th>2022-10-01</th>\n",
       "      <td>-11540.377211</td>\n",
       "      <td>2800.317726</td>\n",
       "    </tr>\n",
       "    <tr>\n",
       "      <th>2022-11-01</th>\n",
       "      <td>-10965.951199</td>\n",
       "      <td>3679.075402</td>\n",
       "    </tr>\n",
       "  </tbody>\n",
       "</table>\n",
       "</div>"
      ],
      "text/plain": [
       "            lower NetIncome  upper NetIncome\n",
       "2021-04-01     -6352.124838      2216.183913\n",
       "2021-05-01     -5034.267840      3036.564047\n",
       "2021-06-01     -5897.223518      -434.276521\n",
       "2021-07-01     -6182.941728      2977.790792\n",
       "2021-08-01     -7522.124218      2346.252380\n",
       "2021-09-01     -5558.775746       887.104420\n",
       "2021-10-01     -7225.445435      3125.607276\n",
       "2021-11-01     -7407.398038      3131.113832\n",
       "2021-12-01     -5216.401051      2466.526026\n",
       "2022-01-01     -7647.319766      3399.106041\n",
       "2022-02-01     -8798.595191      2668.986421\n",
       "2022-03-01     -6486.998172      2128.323231\n",
       "2022-04-01    -11167.835035       917.679776\n",
       "2022-05-01     -9899.396523      2221.484890\n",
       "2022-06-01    -12187.076815     -1781.280231\n",
       "2022-07-01    -10570.892935      2546.110150\n",
       "2022-08-01    -12389.615073      1295.497032\n",
       "2022-09-01     -9837.966590      1755.660616\n",
       "2022-10-01    -11540.377211      2800.317726\n",
       "2022-11-01    -10965.951199      3679.075402"
      ]
     },
     "execution_count": 46,
     "metadata": {},
     "output_type": "execute_result"
    }
   ],
   "source": [
    "pred_ci"
   ]
  },
  {
   "cell_type": "markdown",
   "id": "8470a2d6",
   "metadata": {},
   "source": [
    "## Forecasting Description:"
   ]
  },
  {
   "cell_type": "markdown",
   "id": "a329ec36",
   "metadata": {},
   "source": [
    "First of all, we collect the data from the online website. In this data, only 2 fields are available. These 2 fields are Date and Net Income of Disney Walt. By using these two fields, we can predict the future net income of Disney Walt. For this purpose, we use ARIMA Model."
   ]
  },
  {
   "cell_type": "markdown",
   "id": "3e600935",
   "metadata": {},
   "source": [
    "***ARIMA Model:***"
   ]
  },
  {
   "cell_type": "markdown",
   "id": "445695bc",
   "metadata": {},
   "source": [
    "An ARIMA (Autoregressive integrated moving average) model is a class of statistical models for analyzing and forecasting time series data. It explicitly caters to a suite of standard structures in time series data, and as such provides a simple yet powerful method for making skillful time series forecasts. It is the best model for time series."
   ]
  },
  {
   "cell_type": "markdown",
   "id": "626ce4a0",
   "metadata": {},
   "source": [
    "***Prediction:***"
   ]
  },
  {
   "cell_type": "markdown",
   "id": "2d310281",
   "metadata": {},
   "source": [
    "We predict the net income using ARIMA Model of next year 2021. The above table shows the prediuction of Net income of the next year from 01-04-2021 to 01-03-2022."
   ]
  },
  {
   "cell_type": "markdown",
   "id": "19b064e6",
   "metadata": {},
   "source": [
    "## Classification"
   ]
  },
  {
   "cell_type": "code",
   "execution_count": 3,
   "id": "fcd3883f",
   "metadata": {},
   "outputs": [
    {
     "data": {
      "text/html": [
       "<div>\n",
       "<style scoped>\n",
       "    .dataframe tbody tr th:only-of-type {\n",
       "        vertical-align: middle;\n",
       "    }\n",
       "\n",
       "    .dataframe tbody tr th {\n",
       "        vertical-align: top;\n",
       "    }\n",
       "\n",
       "    .dataframe thead th {\n",
       "        text-align: right;\n",
       "    }\n",
       "</style>\n",
       "<table border=\"1\" class=\"dataframe\">\n",
       "  <thead>\n",
       "    <tr style=\"text-align: right;\">\n",
       "      <th></th>\n",
       "      <th>hhold_ID</th>\n",
       "      <th>discount_original</th>\n",
       "      <th>coupon_received</th>\n",
       "      <th>cabin_type</th>\n",
       "      <th>est_inc</th>\n",
       "      <th>season_of_year</th>\n",
       "      <th>ticket_spend</th>\n",
       "      <th>cruise_theme</th>\n",
       "      <th>incidental_spending</th>\n",
       "      <th>park_package</th>\n",
       "      <th>embark_port</th>\n",
       "      <th>res_to_port</th>\n",
       "      <th>number_children</th>\n",
       "      <th>oldest_child_age</th>\n",
       "      <th>dis_plus_sub</th>\n",
       "      <th>return_1065</th>\n",
       "    </tr>\n",
       "  </thead>\n",
       "  <tbody>\n",
       "    <tr>\n",
       "      <th>0</th>\n",
       "      <td>3598</td>\n",
       "      <td>1</td>\n",
       "      <td>1</td>\n",
       "      <td>Verandah</td>\n",
       "      <td>19280.985</td>\n",
       "      <td>Winter</td>\n",
       "      <td>2649</td>\n",
       "      <td>prin_fro</td>\n",
       "      <td>2898.754343</td>\n",
       "      <td>1</td>\n",
       "      <td>Vancouver</td>\n",
       "      <td>558</td>\n",
       "      <td>3</td>\n",
       "      <td>6.0</td>\n",
       "      <td>1</td>\n",
       "      <td>0</td>\n",
       "    </tr>\n",
       "    <tr>\n",
       "      <th>1</th>\n",
       "      <td>155</td>\n",
       "      <td>1</td>\n",
       "      <td>0</td>\n",
       "      <td>Concierge</td>\n",
       "      <td>825719.960</td>\n",
       "      <td>Spring</td>\n",
       "      <td>2941</td>\n",
       "      <td>Star Wars</td>\n",
       "      <td>2898.754343</td>\n",
       "      <td>1</td>\n",
       "      <td>Port Canaveral</td>\n",
       "      <td>280</td>\n",
       "      <td>3</td>\n",
       "      <td>8.0</td>\n",
       "      <td>1</td>\n",
       "      <td>0</td>\n",
       "    </tr>\n",
       "    <tr>\n",
       "      <th>2</th>\n",
       "      <td>353</td>\n",
       "      <td>1</td>\n",
       "      <td>0</td>\n",
       "      <td>Oceanview</td>\n",
       "      <td>3755246.459</td>\n",
       "      <td>Fall</td>\n",
       "      <td>2609</td>\n",
       "      <td>Marvel</td>\n",
       "      <td>11750.829360</td>\n",
       "      <td>1</td>\n",
       "      <td>Port Canaveral</td>\n",
       "      <td>351</td>\n",
       "      <td>3</td>\n",
       "      <td>3.0</td>\n",
       "      <td>1</td>\n",
       "      <td>0</td>\n",
       "    </tr>\n",
       "    <tr>\n",
       "      <th>3</th>\n",
       "      <td>1474</td>\n",
       "      <td>1</td>\n",
       "      <td>1</td>\n",
       "      <td>Oceanview</td>\n",
       "      <td>96831.550</td>\n",
       "      <td>Winter</td>\n",
       "      <td>2367</td>\n",
       "      <td>Marvel</td>\n",
       "      <td>13945.343510</td>\n",
       "      <td>1</td>\n",
       "      <td>Copenhagen</td>\n",
       "      <td>314</td>\n",
       "      <td>3</td>\n",
       "      <td>7.0</td>\n",
       "      <td>0</td>\n",
       "      <td>0</td>\n",
       "    </tr>\n",
       "    <tr>\n",
       "      <th>4</th>\n",
       "      <td>3272</td>\n",
       "      <td>1</td>\n",
       "      <td>0</td>\n",
       "      <td>Verandah</td>\n",
       "      <td>11027.249</td>\n",
       "      <td>Spring</td>\n",
       "      <td>3021</td>\n",
       "      <td>Marvel</td>\n",
       "      <td>2898.754343</td>\n",
       "      <td>1</td>\n",
       "      <td>Copenhagen</td>\n",
       "      <td>342</td>\n",
       "      <td>4</td>\n",
       "      <td>10.0</td>\n",
       "      <td>1</td>\n",
       "      <td>0</td>\n",
       "    </tr>\n",
       "  </tbody>\n",
       "</table>\n",
       "</div>"
      ],
      "text/plain": [
       "   hhold_ID  discount_original  coupon_received cabin_type      est_inc  \\\n",
       "0      3598                  1                1   Verandah    19280.985   \n",
       "1       155                  1                0  Concierge   825719.960   \n",
       "2       353                  1                0  Oceanview  3755246.459   \n",
       "3      1474                  1                1  Oceanview    96831.550   \n",
       "4      3272                  1                0   Verandah    11027.249   \n",
       "\n",
       "  season_of_year  ticket_spend cruise_theme  incidental_spending  \\\n",
       "0         Winter          2649     prin_fro          2898.754343   \n",
       "1         Spring          2941    Star Wars          2898.754343   \n",
       "2           Fall          2609       Marvel         11750.829360   \n",
       "3         Winter          2367       Marvel         13945.343510   \n",
       "4         Spring          3021       Marvel          2898.754343   \n",
       "\n",
       "   park_package     embark_port  res_to_port  number_children  \\\n",
       "0             1       Vancouver          558                3   \n",
       "1             1  Port Canaveral          280                3   \n",
       "2             1  Port Canaveral          351                3   \n",
       "3             1      Copenhagen          314                3   \n",
       "4             1      Copenhagen          342                4   \n",
       "\n",
       "   oldest_child_age  dis_plus_sub  return_1065  \n",
       "0               6.0             1            0  \n",
       "1               8.0             1            0  \n",
       "2               3.0             1            0  \n",
       "3               7.0             0            0  \n",
       "4              10.0             1            0  "
      ]
     },
     "execution_count": 3,
     "metadata": {},
     "output_type": "execute_result"
    }
   ],
   "source": [
    "data = pd.read_csv(\"C:/Users/sa/Documents/fid_416603781_files (1)/416603781_cruise_returners_8798167447200454.csv\")\n",
    "data.head()  "
   ]
  },
  {
   "cell_type": "code",
   "execution_count": 4,
   "id": "af3f9050",
   "metadata": {},
   "outputs": [
    {
     "name": "stdout",
     "output_type": "stream",
     "text": [
      "<class 'pandas.core.frame.DataFrame'>\n",
      "RangeIndex: 7500 entries, 0 to 7499\n",
      "Data columns (total 16 columns):\n",
      " #   Column               Non-Null Count  Dtype  \n",
      "---  ------               --------------  -----  \n",
      " 0   hhold_ID             7500 non-null   int64  \n",
      " 1   discount_original    7500 non-null   int64  \n",
      " 2   coupon_received      7500 non-null   int64  \n",
      " 3   cabin_type           7500 non-null   object \n",
      " 4   est_inc              7500 non-null   float64\n",
      " 5   season_of_year       7500 non-null   object \n",
      " 6   ticket_spend         7500 non-null   int64  \n",
      " 7   cruise_theme         6250 non-null   object \n",
      " 8   incidental_spending  7500 non-null   float64\n",
      " 9   park_package         7500 non-null   int64  \n",
      " 10  embark_port          7500 non-null   object \n",
      " 11  res_to_port          7500 non-null   int64  \n",
      " 12  number_children      7500 non-null   int64  \n",
      " 13  oldest_child_age     7130 non-null   float64\n",
      " 14  dis_plus_sub         7500 non-null   int64  \n",
      " 15  return_1065          7500 non-null   int64  \n",
      "dtypes: float64(3), int64(9), object(4)\n",
      "memory usage: 937.6+ KB\n"
     ]
    }
   ],
   "source": [
    "data.info()"
   ]
  },
  {
   "cell_type": "code",
   "execution_count": 6,
   "id": "47b431c8",
   "metadata": {},
   "outputs": [
    {
     "data": {
      "text/plain": [
       "hhold_ID                  0\n",
       "discount_original         0\n",
       "coupon_received           0\n",
       "cabin_type                0\n",
       "est_inc                   0\n",
       "season_of_year            0\n",
       "ticket_spend              0\n",
       "cruise_theme           1250\n",
       "incidental_spending       0\n",
       "park_package              0\n",
       "embark_port               0\n",
       "res_to_port               0\n",
       "number_children           0\n",
       "oldest_child_age        370\n",
       "dis_plus_sub              0\n",
       "return_1065               0\n",
       "dtype: int64"
      ]
     },
     "execution_count": 6,
     "metadata": {},
     "output_type": "execute_result"
    }
   ],
   "source": [
    "data.isna().sum()"
   ]
  },
  {
   "cell_type": "code",
   "execution_count": 17,
   "id": "25adfdb1",
   "metadata": {},
   "outputs": [
    {
     "data": {
      "text/plain": [
       "(5941, 16)"
      ]
     },
     "execution_count": 17,
     "metadata": {},
     "output_type": "execute_result"
    }
   ],
   "source": [
    "data = data.dropna()\n",
    "data.shape"
   ]
  },
  {
   "cell_type": "code",
   "execution_count": 18,
   "id": "f681a91e",
   "metadata": {},
   "outputs": [],
   "source": [
    "X = data.drop(['return_1065'], axis=1)\n",
    "\n",
    "y = data['return_1065']"
   ]
  },
  {
   "cell_type": "code",
   "execution_count": 19,
   "id": "0314205c",
   "metadata": {},
   "outputs": [
    {
     "data": {
      "text/plain": [
       "((3980, 15), (1961, 15))"
      ]
     },
     "execution_count": 19,
     "metadata": {},
     "output_type": "execute_result"
    }
   ],
   "source": [
    "from sklearn.model_selection import train_test_split\n",
    "from sklearn.neighbors import KNeighborsClassifier\n",
    "from sklearn.metrics import confusion_matrix\n",
    "from sklearn.metrics import plot_confusion_matrix\n",
    "from sklearn.metrics import accuracy_score\n",
    "\n",
    "X_train, X_test, y_train, y_test = train_test_split(X, y, test_size = 0.33, random_state = 42)\n",
    "X_train.shape, X_test.shape"
   ]
  },
  {
   "cell_type": "code",
   "execution_count": 14,
   "id": "be5918d6",
   "metadata": {},
   "outputs": [
    {
     "name": "stderr",
     "output_type": "stream",
     "text": [
      "C:\\Users\\sa\\anaconda3\\ANAKONDA\\lib\\site-packages\\category_encoders\\utils.py:21: FutureWarning: is_categorical is deprecated and will be removed in a future version.  Use is_categorical_dtype instead\n",
      "  elif pd.api.types.is_categorical(cols):\n"
     ]
    },
    {
     "data": {
      "text/html": [
       "<div>\n",
       "<style scoped>\n",
       "    .dataframe tbody tr th:only-of-type {\n",
       "        vertical-align: middle;\n",
       "    }\n",
       "\n",
       "    .dataframe tbody tr th {\n",
       "        vertical-align: top;\n",
       "    }\n",
       "\n",
       "    .dataframe thead th {\n",
       "        text-align: right;\n",
       "    }\n",
       "</style>\n",
       "<table border=\"1\" class=\"dataframe\">\n",
       "  <thead>\n",
       "    <tr style=\"text-align: right;\">\n",
       "      <th></th>\n",
       "      <th>hhold_ID</th>\n",
       "      <th>discount_original</th>\n",
       "      <th>coupon_received</th>\n",
       "      <th>cabin_type</th>\n",
       "      <th>est_inc</th>\n",
       "      <th>season_of_year</th>\n",
       "      <th>ticket_spend</th>\n",
       "      <th>cruise_theme</th>\n",
       "      <th>incidental_spending</th>\n",
       "      <th>park_package</th>\n",
       "      <th>embark_port</th>\n",
       "      <th>res_to_port</th>\n",
       "      <th>number_children</th>\n",
       "      <th>oldest_child_age</th>\n",
       "      <th>dis_plus_sub</th>\n",
       "    </tr>\n",
       "  </thead>\n",
       "  <tbody>\n",
       "    <tr>\n",
       "      <th>3151</th>\n",
       "      <td>2918</td>\n",
       "      <td>0</td>\n",
       "      <td>0</td>\n",
       "      <td>1</td>\n",
       "      <td>117788.156</td>\n",
       "      <td>1</td>\n",
       "      <td>2284</td>\n",
       "      <td>1</td>\n",
       "      <td>1486.513143</td>\n",
       "      <td>0</td>\n",
       "      <td>1</td>\n",
       "      <td>21</td>\n",
       "      <td>2</td>\n",
       "      <td>10.0</td>\n",
       "      <td>0</td>\n",
       "    </tr>\n",
       "    <tr>\n",
       "      <th>4019</th>\n",
       "      <td>7387</td>\n",
       "      <td>1</td>\n",
       "      <td>0</td>\n",
       "      <td>2</td>\n",
       "      <td>31750.238</td>\n",
       "      <td>2</td>\n",
       "      <td>2122</td>\n",
       "      <td>2</td>\n",
       "      <td>5815.534755</td>\n",
       "      <td>0</td>\n",
       "      <td>1</td>\n",
       "      <td>24</td>\n",
       "      <td>2</td>\n",
       "      <td>7.0</td>\n",
       "      <td>1</td>\n",
       "    </tr>\n",
       "    <tr>\n",
       "      <th>4194</th>\n",
       "      <td>1227</td>\n",
       "      <td>1</td>\n",
       "      <td>0</td>\n",
       "      <td>1</td>\n",
       "      <td>318477.190</td>\n",
       "      <td>2</td>\n",
       "      <td>1915</td>\n",
       "      <td>3</td>\n",
       "      <td>2964.414085</td>\n",
       "      <td>0</td>\n",
       "      <td>2</td>\n",
       "      <td>23</td>\n",
       "      <td>0</td>\n",
       "      <td>NaN</td>\n",
       "      <td>1</td>\n",
       "    </tr>\n",
       "    <tr>\n",
       "      <th>1825</th>\n",
       "      <td>1620</td>\n",
       "      <td>0</td>\n",
       "      <td>0</td>\n",
       "      <td>3</td>\n",
       "      <td>4707381.109</td>\n",
       "      <td>3</td>\n",
       "      <td>1889</td>\n",
       "      <td>2</td>\n",
       "      <td>45169.753030</td>\n",
       "      <td>1</td>\n",
       "      <td>3</td>\n",
       "      <td>57</td>\n",
       "      <td>3</td>\n",
       "      <td>7.0</td>\n",
       "      <td>0</td>\n",
       "    </tr>\n",
       "    <tr>\n",
       "      <th>7363</th>\n",
       "      <td>6797</td>\n",
       "      <td>0</td>\n",
       "      <td>0</td>\n",
       "      <td>3</td>\n",
       "      <td>699756.341</td>\n",
       "      <td>1</td>\n",
       "      <td>2759</td>\n",
       "      <td>3</td>\n",
       "      <td>2898.754343</td>\n",
       "      <td>0</td>\n",
       "      <td>1</td>\n",
       "      <td>50</td>\n",
       "      <td>1</td>\n",
       "      <td>2.0</td>\n",
       "      <td>0</td>\n",
       "    </tr>\n",
       "  </tbody>\n",
       "</table>\n",
       "</div>"
      ],
      "text/plain": [
       "      hhold_ID  discount_original  coupon_received  cabin_type      est_inc  \\\n",
       "3151      2918                  0                0           1   117788.156   \n",
       "4019      7387                  1                0           2    31750.238   \n",
       "4194      1227                  1                0           1   318477.190   \n",
       "1825      1620                  0                0           3  4707381.109   \n",
       "7363      6797                  0                0           3   699756.341   \n",
       "\n",
       "      season_of_year  ticket_spend  cruise_theme  incidental_spending  \\\n",
       "3151               1          2284             1          1486.513143   \n",
       "4019               2          2122             2          5815.534755   \n",
       "4194               2          1915             3          2964.414085   \n",
       "1825               3          1889             2         45169.753030   \n",
       "7363               1          2759             3          2898.754343   \n",
       "\n",
       "      park_package  embark_port  res_to_port  number_children  \\\n",
       "3151             0            1           21                2   \n",
       "4019             0            1           24                2   \n",
       "4194             0            2           23                0   \n",
       "1825             1            3           57                3   \n",
       "7363             0            1           50                1   \n",
       "\n",
       "      oldest_child_age  dis_plus_sub  \n",
       "3151              10.0             0  \n",
       "4019               7.0             1  \n",
       "4194               NaN             1  \n",
       "1825               7.0             0  \n",
       "7363               2.0             0  "
      ]
     },
     "execution_count": 14,
     "metadata": {},
     "output_type": "execute_result"
    }
   ],
   "source": [
    "import category_encoders as ce\n",
    "\n",
    "encoder = ce.OrdinalEncoder(cols=[\"cabin_type\", \"season_of_year\", \"cruise_theme\",\n",
    "        \"embark_port\"])\n",
    "\n",
    "\n",
    "X_train = encoder.fit_transform(X_train)\n",
    "\n",
    "X_test = encoder.transform(X_test)\n",
    "X_train.head()"
   ]
  },
  {
   "cell_type": "code",
   "execution_count": 5,
   "id": "53ea0b95",
   "metadata": {},
   "outputs": [
    {
     "name": "stdout",
     "output_type": "stream",
     "text": [
      "Collecting package metadata (current_repodata.json): ...working... done\n",
      "Solving environment: ...working... done\n",
      "\n",
      "# All requested packages already installed.\n",
      "\n",
      "\n",
      "Note: you may need to restart the kernel to use updated packages.\n"
     ]
    }
   ],
   "source": [
    "conda install -c conda-forge category_encoders"
   ]
  },
  {
   "cell_type": "code",
   "execution_count": 29,
   "id": "c3e14b79",
   "metadata": {},
   "outputs": [
    {
     "data": {
      "text/html": [
       "<div>\n",
       "<style scoped>\n",
       "    .dataframe tbody tr th:only-of-type {\n",
       "        vertical-align: middle;\n",
       "    }\n",
       "\n",
       "    .dataframe tbody tr th {\n",
       "        vertical-align: top;\n",
       "    }\n",
       "\n",
       "    .dataframe thead th {\n",
       "        text-align: right;\n",
       "    }\n",
       "</style>\n",
       "<table border=\"1\" class=\"dataframe\">\n",
       "  <thead>\n",
       "    <tr style=\"text-align: right;\">\n",
       "      <th></th>\n",
       "      <th>hhold_ID</th>\n",
       "      <th>discount_original</th>\n",
       "      <th>coupon_received</th>\n",
       "      <th>cabin_type</th>\n",
       "      <th>est_inc</th>\n",
       "      <th>season_of_year</th>\n",
       "      <th>ticket_spend</th>\n",
       "      <th>cruise_theme</th>\n",
       "      <th>incidental_spending</th>\n",
       "      <th>park_package</th>\n",
       "      <th>embark_port</th>\n",
       "      <th>res_to_port</th>\n",
       "      <th>number_children</th>\n",
       "      <th>oldest_child_age</th>\n",
       "      <th>dis_plus_sub</th>\n",
       "    </tr>\n",
       "  </thead>\n",
       "  <tbody>\n",
       "    <tr>\n",
       "      <th>204</th>\n",
       "      <td>1175</td>\n",
       "      <td>1</td>\n",
       "      <td>1</td>\n",
       "      <td>Concierge</td>\n",
       "      <td>526136.577</td>\n",
       "      <td>Winter</td>\n",
       "      <td>2261</td>\n",
       "      <td>prin_fro</td>\n",
       "      <td>12044.549600</td>\n",
       "      <td>1</td>\n",
       "      <td>Port Canaveral</td>\n",
       "      <td>46</td>\n",
       "      <td>5</td>\n",
       "      <td>3.0</td>\n",
       "      <td>0</td>\n",
       "    </tr>\n",
       "    <tr>\n",
       "      <th>3847</th>\n",
       "      <td>4867</td>\n",
       "      <td>0</td>\n",
       "      <td>0</td>\n",
       "      <td>Verandah</td>\n",
       "      <td>80090.535</td>\n",
       "      <td>Summer</td>\n",
       "      <td>1892</td>\n",
       "      <td>starwars</td>\n",
       "      <td>9813.645605</td>\n",
       "      <td>0</td>\n",
       "      <td>San Diego</td>\n",
       "      <td>22</td>\n",
       "      <td>2</td>\n",
       "      <td>8.0</td>\n",
       "      <td>0</td>\n",
       "    </tr>\n",
       "    <tr>\n",
       "      <th>6384</th>\n",
       "      <td>1695</td>\n",
       "      <td>0</td>\n",
       "      <td>1</td>\n",
       "      <td>Verandah</td>\n",
       "      <td>126371.239</td>\n",
       "      <td>Winter</td>\n",
       "      <td>2670</td>\n",
       "      <td>prin_fro</td>\n",
       "      <td>9096.917286</td>\n",
       "      <td>1</td>\n",
       "      <td>Copenhagen</td>\n",
       "      <td>30</td>\n",
       "      <td>2</td>\n",
       "      <td>9.0</td>\n",
       "      <td>0</td>\n",
       "    </tr>\n",
       "    <tr>\n",
       "      <th>4686</th>\n",
       "      <td>1281</td>\n",
       "      <td>0</td>\n",
       "      <td>0</td>\n",
       "      <td>Concierge</td>\n",
       "      <td>997.065</td>\n",
       "      <td>Winter</td>\n",
       "      <td>3053</td>\n",
       "      <td>Princess/Frozen</td>\n",
       "      <td>12351.265900</td>\n",
       "      <td>0</td>\n",
       "      <td>Port Canaveral</td>\n",
       "      <td>58</td>\n",
       "      <td>2</td>\n",
       "      <td>3.0</td>\n",
       "      <td>1</td>\n",
       "    </tr>\n",
       "    <tr>\n",
       "      <th>1954</th>\n",
       "      <td>3558</td>\n",
       "      <td>0</td>\n",
       "      <td>0</td>\n",
       "      <td>Inside</td>\n",
       "      <td>13817.781</td>\n",
       "      <td>Winter</td>\n",
       "      <td>1489</td>\n",
       "      <td>starwars</td>\n",
       "      <td>153.464998</td>\n",
       "      <td>0</td>\n",
       "      <td>New York</td>\n",
       "      <td>12</td>\n",
       "      <td>5</td>\n",
       "      <td>5.0</td>\n",
       "      <td>0</td>\n",
       "    </tr>\n",
       "    <tr>\n",
       "      <th>1670</th>\n",
       "      <td>4672</td>\n",
       "      <td>0</td>\n",
       "      <td>0</td>\n",
       "      <td>Concierge</td>\n",
       "      <td>4239.143</td>\n",
       "      <td>Fall</td>\n",
       "      <td>2885</td>\n",
       "      <td>Princess/Frozen</td>\n",
       "      <td>2898.754343</td>\n",
       "      <td>0</td>\n",
       "      <td>Port Canaveral</td>\n",
       "      <td>24</td>\n",
       "      <td>3</td>\n",
       "      <td>8.0</td>\n",
       "      <td>0</td>\n",
       "    </tr>\n",
       "    <tr>\n",
       "      <th>3524</th>\n",
       "      <td>380</td>\n",
       "      <td>0</td>\n",
       "      <td>0</td>\n",
       "      <td>Oceanview</td>\n",
       "      <td>459567.888</td>\n",
       "      <td>Spring</td>\n",
       "      <td>1645</td>\n",
       "      <td>Star Wars</td>\n",
       "      <td>2898.754343</td>\n",
       "      <td>0</td>\n",
       "      <td>Vancouver</td>\n",
       "      <td>93</td>\n",
       "      <td>1</td>\n",
       "      <td>5.0</td>\n",
       "      <td>0</td>\n",
       "    </tr>\n",
       "    <tr>\n",
       "      <th>4723</th>\n",
       "      <td>1477</td>\n",
       "      <td>0</td>\n",
       "      <td>0</td>\n",
       "      <td>Verandah</td>\n",
       "      <td>4895634.592</td>\n",
       "      <td>Summer</td>\n",
       "      <td>3019</td>\n",
       "      <td>prin_fro</td>\n",
       "      <td>52396.273740</td>\n",
       "      <td>0</td>\n",
       "      <td>New York</td>\n",
       "      <td>74</td>\n",
       "      <td>3</td>\n",
       "      <td>14.0</td>\n",
       "      <td>0</td>\n",
       "    </tr>\n",
       "    <tr>\n",
       "      <th>6499</th>\n",
       "      <td>2262</td>\n",
       "      <td>0</td>\n",
       "      <td>0</td>\n",
       "      <td>Inside</td>\n",
       "      <td>44226.547</td>\n",
       "      <td>Winter</td>\n",
       "      <td>1824</td>\n",
       "      <td>Marvel</td>\n",
       "      <td>11660.409290</td>\n",
       "      <td>1</td>\n",
       "      <td>Barcelona</td>\n",
       "      <td>40</td>\n",
       "      <td>2</td>\n",
       "      <td>4.0</td>\n",
       "      <td>0</td>\n",
       "    </tr>\n",
       "    <tr>\n",
       "      <th>7287</th>\n",
       "      <td>6405</td>\n",
       "      <td>0</td>\n",
       "      <td>0</td>\n",
       "      <td>Verandah</td>\n",
       "      <td>297316.819</td>\n",
       "      <td>Fall</td>\n",
       "      <td>1759</td>\n",
       "      <td>Marvel</td>\n",
       "      <td>13597.590750</td>\n",
       "      <td>0</td>\n",
       "      <td>Copenhagen</td>\n",
       "      <td>29</td>\n",
       "      <td>3</td>\n",
       "      <td>16.0</td>\n",
       "      <td>0</td>\n",
       "    </tr>\n",
       "    <tr>\n",
       "      <th>5769</th>\n",
       "      <td>6646</td>\n",
       "      <td>1</td>\n",
       "      <td>1</td>\n",
       "      <td>Concierge</td>\n",
       "      <td>250510.174</td>\n",
       "      <td>Summer</td>\n",
       "      <td>3281</td>\n",
       "      <td>Princess/Frozen</td>\n",
       "      <td>3916.064153</td>\n",
       "      <td>0</td>\n",
       "      <td>Copenhagen</td>\n",
       "      <td>131</td>\n",
       "      <td>2</td>\n",
       "      <td>9.0</td>\n",
       "      <td>0</td>\n",
       "    </tr>\n",
       "    <tr>\n",
       "      <th>3057</th>\n",
       "      <td>1583</td>\n",
       "      <td>0</td>\n",
       "      <td>0</td>\n",
       "      <td>Inside</td>\n",
       "      <td>153861.554</td>\n",
       "      <td>Summer</td>\n",
       "      <td>1979</td>\n",
       "      <td>prin_fro</td>\n",
       "      <td>2898.754343</td>\n",
       "      <td>0</td>\n",
       "      <td>Vancouver</td>\n",
       "      <td>27</td>\n",
       "      <td>2</td>\n",
       "      <td>14.0</td>\n",
       "      <td>0</td>\n",
       "    </tr>\n",
       "    <tr>\n",
       "      <th>1441</th>\n",
       "      <td>2588</td>\n",
       "      <td>0</td>\n",
       "      <td>0</td>\n",
       "      <td>Verandah</td>\n",
       "      <td>86889.066</td>\n",
       "      <td>Winter</td>\n",
       "      <td>1868</td>\n",
       "      <td>starwars</td>\n",
       "      <td>2898.754343</td>\n",
       "      <td>1</td>\n",
       "      <td>Vancouver</td>\n",
       "      <td>14</td>\n",
       "      <td>3</td>\n",
       "      <td>3.0</td>\n",
       "      <td>0</td>\n",
       "    </tr>\n",
       "    <tr>\n",
       "      <th>4667</th>\n",
       "      <td>1188</td>\n",
       "      <td>1</td>\n",
       "      <td>1</td>\n",
       "      <td>Oceanview</td>\n",
       "      <td>7715.167</td>\n",
       "      <td>Fall</td>\n",
       "      <td>1918</td>\n",
       "      <td>starwars</td>\n",
       "      <td>7089.733556</td>\n",
       "      <td>0</td>\n",
       "      <td>Barcelona</td>\n",
       "      <td>32</td>\n",
       "      <td>2</td>\n",
       "      <td>7.0</td>\n",
       "      <td>1</td>\n",
       "    </tr>\n",
       "    <tr>\n",
       "      <th>581</th>\n",
       "      <td>1553</td>\n",
       "      <td>1</td>\n",
       "      <td>0</td>\n",
       "      <td>Concierge</td>\n",
       "      <td>55390.989</td>\n",
       "      <td>Fall</td>\n",
       "      <td>2511</td>\n",
       "      <td>Star Wars</td>\n",
       "      <td>19461.701340</td>\n",
       "      <td>1</td>\n",
       "      <td>Port Canaveral</td>\n",
       "      <td>40</td>\n",
       "      <td>2</td>\n",
       "      <td>12.0</td>\n",
       "      <td>0</td>\n",
       "    </tr>\n",
       "    <tr>\n",
       "      <th>5687</th>\n",
       "      <td>6256</td>\n",
       "      <td>0</td>\n",
       "      <td>0</td>\n",
       "      <td>Verandah</td>\n",
       "      <td>9636.314</td>\n",
       "      <td>Winter</td>\n",
       "      <td>1980</td>\n",
       "      <td>Princess/Frozen</td>\n",
       "      <td>2898.754343</td>\n",
       "      <td>1</td>\n",
       "      <td>Barcelona</td>\n",
       "      <td>32</td>\n",
       "      <td>3</td>\n",
       "      <td>16.0</td>\n",
       "      <td>0</td>\n",
       "    </tr>\n",
       "    <tr>\n",
       "      <th>6069</th>\n",
       "      <td>81</td>\n",
       "      <td>1</td>\n",
       "      <td>0</td>\n",
       "      <td>Concierge</td>\n",
       "      <td>460838.956</td>\n",
       "      <td>Winter</td>\n",
       "      <td>2731</td>\n",
       "      <td>Marvel</td>\n",
       "      <td>2898.754343</td>\n",
       "      <td>0</td>\n",
       "      <td>Barcelona</td>\n",
       "      <td>82</td>\n",
       "      <td>1</td>\n",
       "      <td>5.0</td>\n",
       "      <td>0</td>\n",
       "    </tr>\n",
       "    <tr>\n",
       "      <th>5986</th>\n",
       "      <td>4046</td>\n",
       "      <td>1</td>\n",
       "      <td>0</td>\n",
       "      <td>Oceanview</td>\n",
       "      <td>3572.122</td>\n",
       "      <td>Spring</td>\n",
       "      <td>2338</td>\n",
       "      <td>Star Wars</td>\n",
       "      <td>2898.754343</td>\n",
       "      <td>0</td>\n",
       "      <td>Copenhagen</td>\n",
       "      <td>82</td>\n",
       "      <td>1</td>\n",
       "      <td>17.0</td>\n",
       "      <td>0</td>\n",
       "    </tr>\n",
       "    <tr>\n",
       "      <th>1979</th>\n",
       "      <td>3864</td>\n",
       "      <td>0</td>\n",
       "      <td>0</td>\n",
       "      <td>Verandah</td>\n",
       "      <td>34088.982</td>\n",
       "      <td>Fall</td>\n",
       "      <td>2702</td>\n",
       "      <td>Marvel</td>\n",
       "      <td>11813.585560</td>\n",
       "      <td>1</td>\n",
       "      <td>Port Canaveral</td>\n",
       "      <td>74</td>\n",
       "      <td>3</td>\n",
       "      <td>9.0</td>\n",
       "      <td>1</td>\n",
       "    </tr>\n",
       "    <tr>\n",
       "      <th>367</th>\n",
       "      <td>1107</td>\n",
       "      <td>1</td>\n",
       "      <td>1</td>\n",
       "      <td>Inside</td>\n",
       "      <td>93.672</td>\n",
       "      <td>Summer</td>\n",
       "      <td>2571</td>\n",
       "      <td>Star Wars</td>\n",
       "      <td>7099.675194</td>\n",
       "      <td>1</td>\n",
       "      <td>Vancouver</td>\n",
       "      <td>15</td>\n",
       "      <td>2</td>\n",
       "      <td>4.0</td>\n",
       "      <td>1</td>\n",
       "    </tr>\n",
       "    <tr>\n",
       "      <th>2035</th>\n",
       "      <td>4545</td>\n",
       "      <td>0</td>\n",
       "      <td>0</td>\n",
       "      <td>Concierge</td>\n",
       "      <td>3318451.031</td>\n",
       "      <td>Winter</td>\n",
       "      <td>2758</td>\n",
       "      <td>prin_fro</td>\n",
       "      <td>31342.491280</td>\n",
       "      <td>0</td>\n",
       "      <td>San Diego</td>\n",
       "      <td>122</td>\n",
       "      <td>4</td>\n",
       "      <td>5.0</td>\n",
       "      <td>1</td>\n",
       "    </tr>\n",
       "    <tr>\n",
       "      <th>618</th>\n",
       "      <td>2793</td>\n",
       "      <td>1</td>\n",
       "      <td>0</td>\n",
       "      <td>Inside</td>\n",
       "      <td>1968148.114</td>\n",
       "      <td>Fall</td>\n",
       "      <td>1169</td>\n",
       "      <td>Princess/Frozen</td>\n",
       "      <td>9647.345258</td>\n",
       "      <td>1</td>\n",
       "      <td>Barcelona</td>\n",
       "      <td>17</td>\n",
       "      <td>3</td>\n",
       "      <td>12.0</td>\n",
       "      <td>0</td>\n",
       "    </tr>\n",
       "    <tr>\n",
       "      <th>196</th>\n",
       "      <td>417</td>\n",
       "      <td>1</td>\n",
       "      <td>0</td>\n",
       "      <td>Concierge</td>\n",
       "      <td>5622.541</td>\n",
       "      <td>Winter</td>\n",
       "      <td>3088</td>\n",
       "      <td>Princess/Frozen</td>\n",
       "      <td>2898.754343</td>\n",
       "      <td>1</td>\n",
       "      <td>Copenhagen</td>\n",
       "      <td>27</td>\n",
       "      <td>3</td>\n",
       "      <td>7.0</td>\n",
       "      <td>0</td>\n",
       "    </tr>\n",
       "    <tr>\n",
       "      <th>2750</th>\n",
       "      <td>5747</td>\n",
       "      <td>1</td>\n",
       "      <td>0</td>\n",
       "      <td>Concierge</td>\n",
       "      <td>4621.083</td>\n",
       "      <td>Winter</td>\n",
       "      <td>2461</td>\n",
       "      <td>Princess/Frozen</td>\n",
       "      <td>2898.754343</td>\n",
       "      <td>0</td>\n",
       "      <td>New York</td>\n",
       "      <td>15</td>\n",
       "      <td>3</td>\n",
       "      <td>5.0</td>\n",
       "      <td>0</td>\n",
       "    </tr>\n",
       "    <tr>\n",
       "      <th>6909</th>\n",
       "      <td>4410</td>\n",
       "      <td>1</td>\n",
       "      <td>0</td>\n",
       "      <td>Concierge</td>\n",
       "      <td>42648.095</td>\n",
       "      <td>Summer</td>\n",
       "      <td>2527</td>\n",
       "      <td>Star Wars</td>\n",
       "      <td>8636.014526</td>\n",
       "      <td>0</td>\n",
       "      <td>Copenhagen</td>\n",
       "      <td>113</td>\n",
       "      <td>2</td>\n",
       "      <td>10.0</td>\n",
       "      <td>0</td>\n",
       "    </tr>\n",
       "  </tbody>\n",
       "</table>\n",
       "</div>"
      ],
      "text/plain": [
       "      hhold_ID  discount_original  coupon_received cabin_type      est_inc  \\\n",
       "204       1175                  1                1  Concierge   526136.577   \n",
       "3847      4867                  0                0   Verandah    80090.535   \n",
       "6384      1695                  0                1   Verandah   126371.239   \n",
       "4686      1281                  0                0  Concierge      997.065   \n",
       "1954      3558                  0                0     Inside    13817.781   \n",
       "1670      4672                  0                0  Concierge     4239.143   \n",
       "3524       380                  0                0  Oceanview   459567.888   \n",
       "4723      1477                  0                0   Verandah  4895634.592   \n",
       "6499      2262                  0                0     Inside    44226.547   \n",
       "7287      6405                  0                0   Verandah   297316.819   \n",
       "5769      6646                  1                1  Concierge   250510.174   \n",
       "3057      1583                  0                0     Inside   153861.554   \n",
       "1441      2588                  0                0   Verandah    86889.066   \n",
       "4667      1188                  1                1  Oceanview     7715.167   \n",
       "581       1553                  1                0  Concierge    55390.989   \n",
       "5687      6256                  0                0   Verandah     9636.314   \n",
       "6069        81                  1                0  Concierge   460838.956   \n",
       "5986      4046                  1                0  Oceanview     3572.122   \n",
       "1979      3864                  0                0   Verandah    34088.982   \n",
       "367       1107                  1                1     Inside       93.672   \n",
       "2035      4545                  0                0  Concierge  3318451.031   \n",
       "618       2793                  1                0     Inside  1968148.114   \n",
       "196        417                  1                0  Concierge     5622.541   \n",
       "2750      5747                  1                0  Concierge     4621.083   \n",
       "6909      4410                  1                0  Concierge    42648.095   \n",
       "\n",
       "     season_of_year  ticket_spend     cruise_theme  incidental_spending  \\\n",
       "204          Winter          2261         prin_fro         12044.549600   \n",
       "3847         Summer          1892         starwars          9813.645605   \n",
       "6384         Winter          2670         prin_fro          9096.917286   \n",
       "4686         Winter          3053  Princess/Frozen         12351.265900   \n",
       "1954         Winter          1489         starwars           153.464998   \n",
       "1670           Fall          2885  Princess/Frozen          2898.754343   \n",
       "3524         Spring          1645        Star Wars          2898.754343   \n",
       "4723         Summer          3019         prin_fro         52396.273740   \n",
       "6499         Winter          1824           Marvel         11660.409290   \n",
       "7287           Fall          1759           Marvel         13597.590750   \n",
       "5769         Summer          3281  Princess/Frozen          3916.064153   \n",
       "3057         Summer          1979         prin_fro          2898.754343   \n",
       "1441         Winter          1868         starwars          2898.754343   \n",
       "4667           Fall          1918         starwars          7089.733556   \n",
       "581            Fall          2511        Star Wars         19461.701340   \n",
       "5687         Winter          1980  Princess/Frozen          2898.754343   \n",
       "6069         Winter          2731           Marvel          2898.754343   \n",
       "5986         Spring          2338        Star Wars          2898.754343   \n",
       "1979           Fall          2702           Marvel         11813.585560   \n",
       "367          Summer          2571        Star Wars          7099.675194   \n",
       "2035         Winter          2758         prin_fro         31342.491280   \n",
       "618            Fall          1169  Princess/Frozen          9647.345258   \n",
       "196          Winter          3088  Princess/Frozen          2898.754343   \n",
       "2750         Winter          2461  Princess/Frozen          2898.754343   \n",
       "6909         Summer          2527        Star Wars          8636.014526   \n",
       "\n",
       "      park_package     embark_port  res_to_port  number_children  \\\n",
       "204              1  Port Canaveral           46                5   \n",
       "3847             0       San Diego           22                2   \n",
       "6384             1      Copenhagen           30                2   \n",
       "4686             0  Port Canaveral           58                2   \n",
       "1954             0        New York           12                5   \n",
       "1670             0  Port Canaveral           24                3   \n",
       "3524             0       Vancouver           93                1   \n",
       "4723             0        New York           74                3   \n",
       "6499             1       Barcelona           40                2   \n",
       "7287             0      Copenhagen           29                3   \n",
       "5769             0      Copenhagen          131                2   \n",
       "3057             0       Vancouver           27                2   \n",
       "1441             1       Vancouver           14                3   \n",
       "4667             0       Barcelona           32                2   \n",
       "581              1  Port Canaveral           40                2   \n",
       "5687             1       Barcelona           32                3   \n",
       "6069             0       Barcelona           82                1   \n",
       "5986             0      Copenhagen           82                1   \n",
       "1979             1  Port Canaveral           74                3   \n",
       "367              1       Vancouver           15                2   \n",
       "2035             0       San Diego          122                4   \n",
       "618              1       Barcelona           17                3   \n",
       "196              1      Copenhagen           27                3   \n",
       "2750             0        New York           15                3   \n",
       "6909             0      Copenhagen          113                2   \n",
       "\n",
       "      oldest_child_age  dis_plus_sub  \n",
       "204                3.0             0  \n",
       "3847               8.0             0  \n",
       "6384               9.0             0  \n",
       "4686               3.0             1  \n",
       "1954               5.0             0  \n",
       "1670               8.0             0  \n",
       "3524               5.0             0  \n",
       "4723              14.0             0  \n",
       "6499               4.0             0  \n",
       "7287              16.0             0  \n",
       "5769               9.0             0  \n",
       "3057              14.0             0  \n",
       "1441               3.0             0  \n",
       "4667               7.0             1  \n",
       "581               12.0             0  \n",
       "5687              16.0             0  \n",
       "6069               5.0             0  \n",
       "5986              17.0             0  \n",
       "1979               9.0             1  \n",
       "367                4.0             1  \n",
       "2035               5.0             1  \n",
       "618               12.0             0  \n",
       "196                7.0             0  \n",
       "2750               5.0             0  \n",
       "6909              10.0             0  "
      ]
     },
     "execution_count": 29,
     "metadata": {},
     "output_type": "execute_result"
    }
   ],
   "source": [
    "\n",
    "X_train.head(25)"
   ]
  },
  {
   "cell_type": "markdown",
   "id": "f3319d90",
   "metadata": {},
   "source": [
    "# KNN"
   ]
  },
  {
   "cell_type": "code",
   "execution_count": 73,
   "id": "5d4ed552",
   "metadata": {},
   "outputs": [],
   "source": [
    "knn = KNeighborsClassifier(n_neighbors=10)\n",
    "knn.fit(X_train1, y_train)\n",
    "y_pred = knn.predict(X_test1)"
   ]
  },
  {
   "cell_type": "code",
   "execution_count": 72,
   "id": "65e02ed5",
   "metadata": {},
   "outputs": [],
   "source": [
    "X_test1 = X_test[[\"discount_original\",\"coupon_received\",\"est_inc\",\"incidental_spending\",\"res_to_port\",\"number_children\"]]"
   ]
  },
  {
   "cell_type": "code",
   "execution_count": 57,
   "id": "963e1797",
   "metadata": {},
   "outputs": [
    {
     "name": "stderr",
     "output_type": "stream",
     "text": [
      "C:\\Users\\sa\\anaconda3\\ANAKONDA\\lib\\site-packages\\pandas\\core\\frame.py:4308: SettingWithCopyWarning: \n",
      "A value is trying to be set on a copy of a slice from a DataFrame\n",
      "\n",
      "See the caveats in the documentation: https://pandas.pydata.org/pandas-docs/stable/user_guide/indexing.html#returning-a-view-versus-a-copy\n",
      "  return super().drop(\n"
     ]
    }
   ],
   "source": [
    "X_train.drop(columns=['season_of_year','cruise_theme','embark_port']\n",
    "  , inplace=True)"
   ]
  },
  {
   "cell_type": "code",
   "execution_count": 69,
   "id": "2a7f2b11",
   "metadata": {},
   "outputs": [],
   "source": [
    "X_train1 = X_train[[\"discount_original\",\"coupon_received\",\"est_inc\",\"incidental_spending\",\"res_to_port\",\"number_children\"]]"
   ]
  },
  {
   "cell_type": "code",
   "execution_count": 28,
   "id": "f953888c",
   "metadata": {},
   "outputs": [
    {
     "name": "stdout",
     "output_type": "stream",
     "text": [
      "<class 'pandas.core.frame.DataFrame'>\n"
     ]
    }
   ],
   "source": [
    "print(type(X_train))"
   ]
  },
  {
   "cell_type": "code",
   "execution_count": 74,
   "id": "527c2389",
   "metadata": {},
   "outputs": [
    {
     "data": {
      "text/plain": [
       "<matplotlib.legend.Legend at 0x1f4153e8d60>"
      ]
     },
     "execution_count": 74,
     "metadata": {},
     "output_type": "execute_result"
    },
    {
     "data": {
      "image/png": "[encoded data removed]",
      "text/plain": [
       "<Figure size 720x360 with 1 Axes>"
      ]
     },
     "metadata": {
      "needs_background": "light"
     },
     "output_type": "display_data"
    }
   ],
   "source": [
    "#Plot Knn Actual vs. Predicted\n",
    "plt.figure(figsize=(10,5))\n",
    "plt.plot(knn.predict(X_test1[-100:]), \"y\", label=\"prediction\", linewidth=2.0)\n",
    "plt.plot(y_test.values[-100:], \"g\", label=\"real_values\", linewidth=2.0)\n",
    "plt.title(\"Knn Actual vs. Predicted\")\n",
    "plt.legend(loc=\"best\")"
   ]
  },
  {
   "cell_type": "markdown",
   "id": "ba534f33",
   "metadata": {},
   "source": [
    "## Logistic Regression"
   ]
  },
  {
   "cell_type": "code",
   "execution_count": 75,
   "id": "6a6f264f",
   "metadata": {},
   "outputs": [
    {
     "name": "stdout",
     "output_type": "stream",
     "text": [
      "Model accuracy score with index: 51.5553\n"
     ]
    }
   ],
   "source": [
    "from sklearn.linear_model import LogisticRegression\n",
    "logreg = LogisticRegression()\n",
    "logreg.fit(X_train1, y_train)\n",
    "y_pred = logreg.predict(X_test1)\n",
    "print('Model accuracy score with index: {0:0.4f}'. format(accuracy_score(y_test, y_pred)*100))"
   ]
  },
  {
   "cell_type": "code",
   "execution_count": 76,
   "id": "6cdfbdb9",
   "metadata": {},
   "outputs": [
    {
     "data": {
      "image/png": "[encoded data removed]",
      "text/plain": [
       "<Figure size 432x288 with 2 Axes>"
      ]
     },
     "metadata": {
      "needs_background": "light"
     },
     "output_type": "display_data"
    }
   ],
   "source": [
    "cm = confusion_matrix(y_test,  y_pred)\n",
    "plot_confusion_matrix(knn, X_test1, y_test)  \n",
    "plt.show()"
   ]
  },
  {
   "cell_type": "code",
   "execution_count": 77,
   "id": "a941fbed",
   "metadata": {},
   "outputs": [
    {
     "data": {
      "text/plain": [
       "<matplotlib.legend.Legend at 0x1f416537ee0>"
      ]
     },
     "execution_count": 77,
     "metadata": {},
     "output_type": "execute_result"
    },
    {
     "data": {
      "image/png": "[encoded data removed]",
      "text/plain": [
       "<Figure size 720x360 with 1 Axes>"
      ]
     },
     "metadata": {
      "needs_background": "light"
     },
     "output_type": "display_data"
    }
   ],
   "source": [
    "#Plot Logistic Regression Actual vs. Predicted\n",
    "plt.figure(figsize=(10,5))\n",
    "plt.plot(knn.predict(X_test1[-100:]), \"y\", label=\"prediction\", linewidth=2.0)\n",
    "plt.plot(y_test.values[-100:], \"g\", label=\"real_values\", linewidth=2.0)\n",
    "plt.title(\"Logistic Regression Actual vs. Predicted\")\n",
    "plt.legend(loc=\"best\")"
   ]
  },
  {
   "cell_type": "markdown",
   "id": "f9cee078",
   "metadata": {},
   "source": [
    "## Decision Tree"
   ]
  },
  {
   "cell_type": "code",
   "execution_count": 78,
   "id": "5758b8a4",
   "metadata": {},
   "outputs": [
    {
     "name": "stdout",
     "output_type": "stream",
     "text": [
      "Model accuracy score with index: 53.9521\n"
     ]
    }
   ],
   "source": [
    "from sklearn.tree import DecisionTreeClassifier\n",
    "clf = DecisionTreeClassifier().fit(X_train1, y_train)\n",
    "y_pred = clf.predict(X_test1)\n",
    "print('Model accuracy score with index: {0:0.4f}'. format(accuracy_score(y_test, y_pred)*100))"
   ]
  },
  {
   "cell_type": "code",
   "execution_count": 79,
   "id": "e5c521b5",
   "metadata": {},
   "outputs": [
    {
     "data": {
      "image/png": "[encoded data removed]",
      "text/plain": [
       "<Figure size 432x288 with 2 Axes>"
      ]
     },
     "metadata": {
      "needs_background": "light"
     },
     "output_type": "display_data"
    }
   ],
   "source": [
    "cm = confusion_matrix(y_test,  y_pred)\n",
    "plot_confusion_matrix(knn, X_test1, y_test)  \n",
    "plt.show()"
   ]
  },
  {
   "cell_type": "code",
   "execution_count": 80,
   "id": "51eadefd",
   "metadata": {},
   "outputs": [
    {
     "data": {
      "text/plain": [
       "<matplotlib.legend.Legend at 0x1f4166a3f40>"
      ]
     },
     "execution_count": 80,
     "metadata": {},
     "output_type": "execute_result"
    },
    {
     "data": {
      "image/png": "[encoded data removed]",
      "text/plain": [
       "<Figure size 720x360 with 1 Axes>"
      ]
     },
     "metadata": {
      "needs_background": "light"
     },
     "output_type": "display_data"
    }
   ],
   "source": [
    "#Plot  Actual vs. Predicted\n",
    "plt.figure(figsize=(10,5))\n",
    "plt.plot(knn.predict(X_test1[-100:]), \"y\", label=\"prediction\", linewidth=2.0)\n",
    "plt.plot(y_test.values[-100:], \"g\", label=\"real_values\", linewidth=2.0)\n",
    "plt.title(\"Decision Tree Actual vs. Predicted\")\n",
    "plt.legend(loc=\"best\")"
   ]
  },
  {
   "cell_type": "markdown",
   "id": "94345d42",
   "metadata": {},
   "source": [
    "## Classification Description"
   ]
  },
  {
   "cell_type": "markdown",
   "id": "c818d01e",
   "metadata": {},
   "source": [
    "We use some classification algorithm which is used to classify the data. We tries to draw some conclusion from the input values given for training and we will predict the class labels/categories for the new data. Here, we use some classification algorithms to find the accuracy of the model. There are 3 classification algorithms which is used to predict the data that is as follows:"
   ]
  },
  {
   "cell_type": "raw",
   "id": "2a2312fc",
   "metadata": {},
   "source": [
    "1.KNN(K-Nearest Neighbour)\n",
    "2.Logistic Regression\n",
    "3.Decision Tree"
   ]
  },
  {
   "cell_type": "markdown",
   "id": "c330f2a4",
   "metadata": {},
   "source": [
    "**1. KNN:**"
   ]
  },
  {
   "cell_type": "markdown",
   "id": "2ddc5604",
   "metadata": {},
   "source": [
    "KNN is the supervised machine learning algorithms which is used to solve both classification and regression predictive problems. It is commonly used for classification problems. It gives highly compatible results. KNN uses similarity feature to predict the classes. The most similar data is used to predict the value. The new value can be predicted by assigned the value which is most close to the values of the training datasets. The model accuracy score of KNN is 50.2835"
   ]
  },
  {
   "cell_type": "markdown",
   "id": "929e8d2b",
   "metadata": {},
   "source": [
    "**2. Logistic Regression:**"
   ]
  },
  {
   "cell_type": "markdown",
   "id": "0f6289f9",
   "metadata": {},
   "source": [
    "Logistic regression is the appropriate regression analysis to conduct when the dependent variable is dichotomous (binary). Logistic regression is used to describe data and to explain the relationship between one dependent binary variable and one or more nominal, ordinal, interval or ratio-level independent variables. The model accuracy score of Logistic Regression is 53.2381"
   ]
  },
  {
   "cell_type": "markdown",
   "id": "f749f293",
   "metadata": {},
   "source": [
    "**Decisioin Tree:**"
   ]
  },
  {
   "cell_type": "markdown",
   "id": "3970f49b",
   "metadata": {},
   "source": [
    "A decision tree is also a most popular algorithm which is used to solve classification problems. It makes the decision and uses a tree-like model of the decisions. It gives most accurate prediction of the datasets."
   ]
  },
  {
   "cell_type": "markdown",
   "id": "9244a6fa",
   "metadata": {},
   "source": [
    "**Gini Index:**"
   ]
  },
  {
   "cell_type": "markdown",
   "id": "8cb86c8c",
   "metadata": {},
   "source": [
    "We can implement Decision tree by using Gini Index. It is the name of the cost function that is used to find the binary splits in the datasets. The best value of gini index is 0 and the worst value of gini index is 0. We can create the splits in the datasets by using the following three parts that is as follows:\n",
    "\n",
    "1.Calculate the value of gini index.\n",
    "2.Split the dataset.\n",
    "3.Evaluate all the splits of datasets.\n",
    "\n",
    "After splitting the datasets, we create the nodes of the trees. It can be done by using Maximum tree depths and Minimum Nodes record. We can make the final prediction using terminal node. The model accuracy score of Decision Tree is 60.6323"
   ]
  },
  {
   "cell_type": "markdown",
   "id": "ea0b0fa0",
   "metadata": {},
   "source": [
    "**Model Results:**"
   ]
  },
  {
   "cell_type": "markdown",
   "id": "bfe52b09",
   "metadata": {},
   "source": [
    "The Decision tree is the best algorithm than the Logistic Regression and KNN Because the accuracy of Decision Tree is greater than the accuracy of Logistic Regression and KNN.\n",
    "\n",
    "We can predict whether the particular household who embarks on a Disney Cruise will purchase tickets for a follow-up voyage. We can get the actual value as well as predicted value by train the model. We use three classification lagorithms to train the model. So that, we predict that whether a particular household who embarks on a Disney Cruise will purchase tickets for a follow-up voyage.\n",
    "\n"
   ]
  },
  {
   "cell_type": "markdown",
   "id": "85533f37",
   "metadata": {},
   "source": [
    "**A/B Testing**"
   ]
  },
  {
   "cell_type": "code",
   "execution_count": 37,
   "id": "e10874ed",
   "metadata": {},
   "outputs": [
    {
     "data": {
      "text/html": [
       "<div>\n",
       "<style scoped>\n",
       "    .dataframe tbody tr th:only-of-type {\n",
       "        vertical-align: middle;\n",
       "    }\n",
       "\n",
       "    .dataframe tbody tr th {\n",
       "        vertical-align: top;\n",
       "    }\n",
       "\n",
       "    .dataframe thead th {\n",
       "        text-align: right;\n",
       "    }\n",
       "</style>\n",
       "<table border=\"1\" class=\"dataframe\">\n",
       "  <thead>\n",
       "    <tr style=\"text-align: right;\">\n",
       "      <th></th>\n",
       "      <th>Location</th>\n",
       "      <th>Buckets</th>\n",
       "      <th>Q1SalesUSD</th>\n",
       "    </tr>\n",
       "  </thead>\n",
       "  <tbody>\n",
       "    <tr>\n",
       "      <th>0</th>\n",
       "      <td>Disneyland Paris</td>\n",
       "      <td>Cinderella</td>\n",
       "      <td>139413.1</td>\n",
       "    </tr>\n",
       "    <tr>\n",
       "      <th>1</th>\n",
       "      <td>Disneyland Paris</td>\n",
       "      <td>Star_Wars</td>\n",
       "      <td>138890.4</td>\n",
       "    </tr>\n",
       "    <tr>\n",
       "      <th>2</th>\n",
       "      <td>Disneyland Paris</td>\n",
       "      <td>Mermaid</td>\n",
       "      <td>117696.4</td>\n",
       "    </tr>\n",
       "    <tr>\n",
       "      <th>3</th>\n",
       "      <td>Disneyland Paris</td>\n",
       "      <td>MickeySuit</td>\n",
       "      <td>176821.9</td>\n",
       "    </tr>\n",
       "    <tr>\n",
       "      <th>4</th>\n",
       "      <td>Disneyland Paris</td>\n",
       "      <td>MickeyEars</td>\n",
       "      <td>168442.1</td>\n",
       "    </tr>\n",
       "  </tbody>\n",
       "</table>\n",
       "</div>"
      ],
      "text/plain": [
       "           Location     Buckets  Q1SalesUSD\n",
       "0  Disneyland Paris  Cinderella    139413.1\n",
       "1  Disneyland Paris   Star_Wars    138890.4\n",
       "2  Disneyland Paris     Mermaid    117696.4\n",
       "3  Disneyland Paris  MickeySuit    176821.9\n",
       "4  Disneyland Paris  MickeyEars    168442.1"
      ]
     },
     "execution_count": 37,
     "metadata": {},
     "output_type": "execute_result"
    }
   ],
   "source": [
    "import pandas as pd  \n",
    "import numpy as np \n",
    "import matplotlib.pyplot as plt \n",
    "import seaborn as sns \n",
    "import scipy, scipy.stats \n",
    "ab = pd.read_csv(\"C:/Users/sa/Documents/fid_416603781_files (1)/file-416603781-buckets(32).csv\")\n",
    "ab.head() "
   ]
  },
  {
   "cell_type": "code",
   "execution_count": 38,
   "id": "86dbb17e",
   "metadata": {},
   "outputs": [
    {
     "name": "stdout",
     "output_type": "stream",
     "text": [
      "<class 'pandas.core.frame.DataFrame'>\n",
      "RangeIndex: 36 entries, 0 to 35\n",
      "Data columns (total 3 columns):\n",
      " #   Column      Non-Null Count  Dtype  \n",
      "---  ------      --------------  -----  \n",
      " 0   Location    36 non-null     object \n",
      " 1   Buckets     36 non-null     object \n",
      " 2   Q1SalesUSD  36 non-null     float64\n",
      "dtypes: float64(1), object(2)\n",
      "memory usage: 992.0+ bytes\n"
     ]
    }
   ],
   "source": [
    "ab.info()"
   ]
  },
  {
   "cell_type": "code",
   "execution_count": 39,
   "id": "c051dd5d",
   "metadata": {},
   "outputs": [
    {
     "data": {
      "text/html": [
       "<div>\n",
       "<style scoped>\n",
       "    .dataframe tbody tr th:only-of-type {\n",
       "        vertical-align: middle;\n",
       "    }\n",
       "\n",
       "    .dataframe tbody tr th {\n",
       "        vertical-align: top;\n",
       "    }\n",
       "\n",
       "    .dataframe thead th {\n",
       "        text-align: right;\n",
       "    }\n",
       "</style>\n",
       "<table border=\"1\" class=\"dataframe\">\n",
       "  <thead>\n",
       "    <tr style=\"text-align: right;\">\n",
       "      <th></th>\n",
       "      <th>count</th>\n",
       "      <th>mean</th>\n",
       "      <th>std</th>\n",
       "      <th>min</th>\n",
       "      <th>1%</th>\n",
       "      <th>5%</th>\n",
       "      <th>10%</th>\n",
       "      <th>20%</th>\n",
       "      <th>50%</th>\n",
       "      <th>80%</th>\n",
       "      <th>90%</th>\n",
       "      <th>95%</th>\n",
       "      <th>99%</th>\n",
       "      <th>max</th>\n",
       "    </tr>\n",
       "  </thead>\n",
       "  <tbody>\n",
       "    <tr>\n",
       "      <th>Q1SalesUSD</th>\n",
       "      <td>36.0</td>\n",
       "      <td>136381.397222</td>\n",
       "      <td>24598.006711</td>\n",
       "      <td>81159.8</td>\n",
       "      <td>85522.235</td>\n",
       "      <td>93985.175</td>\n",
       "      <td>99255.95</td>\n",
       "      <td>117696.4</td>\n",
       "      <td>139151.75</td>\n",
       "      <td>157672.2</td>\n",
       "      <td>167525.65</td>\n",
       "      <td>175180.3</td>\n",
       "      <td>176985.44</td>\n",
       "      <td>177073.5</td>\n",
       "    </tr>\n",
       "  </tbody>\n",
       "</table>\n",
       "</div>"
      ],
      "text/plain": [
       "            count           mean           std      min         1%         5%  \\\n",
       "Q1SalesUSD   36.0  136381.397222  24598.006711  81159.8  85522.235  93985.175   \n",
       "\n",
       "                 10%       20%        50%       80%        90%       95%  \\\n",
       "Q1SalesUSD  99255.95  117696.4  139151.75  157672.2  167525.65  175180.3   \n",
       "\n",
       "                  99%       max  \n",
       "Q1SalesUSD  176985.44  177073.5  "
      ]
     },
     "execution_count": 39,
     "metadata": {},
     "output_type": "execute_result"
    }
   ],
   "source": [
    "ab.describe([0.01, 0.05, 0.10, 0.20, 0.80, 0.90, 0.95, 0.99])[[\"Q1SalesUSD\"]].T"
   ]
  },
  {
   "cell_type": "code",
   "execution_count": 40,
   "id": "7458b876",
   "metadata": {},
   "outputs": [
    {
     "name": "stderr",
     "output_type": "stream",
     "text": [
      "C:\\Users\\sa\\anaconda3\\ANAKONDA\\lib\\site-packages\\seaborn\\distributions.py:2557: FutureWarning: `distplot` is a deprecated function and will be removed in a future version. Please adapt your code to use either `displot` (a figure-level function with similar flexibility) or `histplot` (an axes-level function for histograms).\n",
      "  warnings.warn(msg, FutureWarning)\n"
     ]
    },
    {
     "data": {
      "text/plain": [
       "<AxesSubplot:xlabel='Q1SalesUSD', ylabel='Density'>"
      ]
     },
     "execution_count": 40,
     "metadata": {},
     "output_type": "execute_result"
    },
    {
     "data": {
      "image/png": "[encoded data removed]",
      "text/plain": [
       "<Figure size 432x288 with 1 Axes>"
      ]
     },
     "metadata": {
      "needs_background": "light"
     },
     "output_type": "display_data"
    }
   ],
   "source": [
    "sns.distplot(ab.Q1SalesUSD)"
   ]
  },
  {
   "cell_type": "code",
   "execution_count": 41,
   "id": "f441cdd2",
   "metadata": {},
   "outputs": [
    {
     "data": {
      "text/html": [
       "<div>\n",
       "<style scoped>\n",
       "    .dataframe tbody tr th:only-of-type {\n",
       "        vertical-align: middle;\n",
       "    }\n",
       "\n",
       "    .dataframe tbody tr th {\n",
       "        vertical-align: top;\n",
       "    }\n",
       "\n",
       "    .dataframe thead th {\n",
       "        text-align: right;\n",
       "    }\n",
       "</style>\n",
       "<table border=\"1\" class=\"dataframe\">\n",
       "  <thead>\n",
       "    <tr style=\"text-align: right;\">\n",
       "      <th></th>\n",
       "      <th>count</th>\n",
       "      <th>median</th>\n",
       "      <th>mean</th>\n",
       "      <th>std</th>\n",
       "      <th>max</th>\n",
       "    </tr>\n",
       "    <tr>\n",
       "      <th>Location</th>\n",
       "      <th></th>\n",
       "      <th></th>\n",
       "      <th></th>\n",
       "      <th></th>\n",
       "      <th></th>\n",
       "    </tr>\n",
       "  </thead>\n",
       "  <tbody>\n",
       "    <tr>\n",
       "      <th>Disneyland Paris</th>\n",
       "      <td>6</td>\n",
       "      <td>139151.75</td>\n",
       "      <td>139147.966667</td>\n",
       "      <td>31016.829287</td>\n",
       "      <td>176821.9</td>\n",
       "    </tr>\n",
       "    <tr>\n",
       "      <th>Disneyland Resort</th>\n",
       "      <td>6</td>\n",
       "      <td>136203.00</td>\n",
       "      <td>133647.733333</td>\n",
       "      <td>33074.038741</td>\n",
       "      <td>174633.1</td>\n",
       "    </tr>\n",
       "    <tr>\n",
       "      <th>Hong Kong Disneyland Resort</th>\n",
       "      <td>6</td>\n",
       "      <td>143257.25</td>\n",
       "      <td>139667.800000</td>\n",
       "      <td>24732.125870</td>\n",
       "      <td>177073.5</td>\n",
       "    </tr>\n",
       "    <tr>\n",
       "      <th>Shanghai Disney Resort</th>\n",
       "      <td>6</td>\n",
       "      <td>132133.70</td>\n",
       "      <td>135183.366667</td>\n",
       "      <td>15212.543256</td>\n",
       "      <td>160508.9</td>\n",
       "    </tr>\n",
       "    <tr>\n",
       "      <th>Tokyo Disney Resort</th>\n",
       "      <td>6</td>\n",
       "      <td>147826.80</td>\n",
       "      <td>136902.150000</td>\n",
       "      <td>23881.617308</td>\n",
       "      <td>155995.0</td>\n",
       "    </tr>\n",
       "    <tr>\n",
       "      <th>Walt Disney World Resort</th>\n",
       "      <td>6</td>\n",
       "      <td>128938.45</td>\n",
       "      <td>133739.366667</td>\n",
       "      <td>26917.090645</td>\n",
       "      <td>166609.2</td>\n",
       "    </tr>\n",
       "  </tbody>\n",
       "</table>\n",
       "</div>"
      ],
      "text/plain": [
       "                             count     median           mean           std  \\\n",
       "Location                                                                     \n",
       "Disneyland Paris                 6  139151.75  139147.966667  31016.829287   \n",
       "Disneyland Resort                6  136203.00  133647.733333  33074.038741   \n",
       "Hong Kong Disneyland Resort      6  143257.25  139667.800000  24732.125870   \n",
       "Shanghai Disney Resort           6  132133.70  135183.366667  15212.543256   \n",
       "Tokyo Disney Resort              6  147826.80  136902.150000  23881.617308   \n",
       "Walt Disney World Resort         6  128938.45  133739.366667  26917.090645   \n",
       "\n",
       "                                  max  \n",
       "Location                               \n",
       "Disneyland Paris             176821.9  \n",
       "Disneyland Resort            174633.1  \n",
       "Hong Kong Disneyland Resort  177073.5  \n",
       "Shanghai Disney Resort       160508.9  \n",
       "Tokyo Disney Resort          155995.0  \n",
       "Walt Disney World Resort     166609.2  "
      ]
     },
     "execution_count": 41,
     "metadata": {},
     "output_type": "execute_result"
    }
   ],
   "source": [
    "# A/B Groups & Target Summary Stats\n",
    "ab.groupby(\"Location\").Q1SalesUSD.agg([\"count\", \"median\", \"mean\", \"std\", \"max\"])"
   ]
  },
  {
   "cell_type": "code",
   "execution_count": 42,
   "id": "05803afd",
   "metadata": {},
   "outputs": [
    {
     "data": {
      "text/html": [
       "<div>\n",
       "<style scoped>\n",
       "    .dataframe tbody tr th:only-of-type {\n",
       "        vertical-align: middle;\n",
       "    }\n",
       "\n",
       "    .dataframe tbody tr th {\n",
       "        vertical-align: top;\n",
       "    }\n",
       "\n",
       "    .dataframe thead th {\n",
       "        text-align: right;\n",
       "    }\n",
       "</style>\n",
       "<table border=\"1\" class=\"dataframe\">\n",
       "  <thead>\n",
       "    <tr style=\"text-align: right;\">\n",
       "      <th></th>\n",
       "      <th>count</th>\n",
       "      <th>median</th>\n",
       "      <th>mean</th>\n",
       "      <th>max</th>\n",
       "    </tr>\n",
       "    <tr>\n",
       "      <th>Buckets</th>\n",
       "      <th></th>\n",
       "      <th></th>\n",
       "      <th></th>\n",
       "      <th></th>\n",
       "    </tr>\n",
       "  </thead>\n",
       "  <tbody>\n",
       "    <tr>\n",
       "      <th>Cinderella</th>\n",
       "      <td>6</td>\n",
       "      <td>135215.75</td>\n",
       "      <td>136139.850000</td>\n",
       "      <td>148417.8</td>\n",
       "    </tr>\n",
       "    <tr>\n",
       "      <th>Mermaid</th>\n",
       "      <td>6</td>\n",
       "      <td>122721.40</td>\n",
       "      <td>123628.983333</td>\n",
       "      <td>132883.5</td>\n",
       "    </tr>\n",
       "    <tr>\n",
       "      <th>MickeyEars</th>\n",
       "      <td>6</td>\n",
       "      <td>152454.00</td>\n",
       "      <td>154566.350000</td>\n",
       "      <td>168442.1</td>\n",
       "    </tr>\n",
       "    <tr>\n",
       "      <th>MickeySuit</th>\n",
       "      <td>6</td>\n",
       "      <td>168215.60</td>\n",
       "      <td>167465.233333</td>\n",
       "      <td>177073.5</td>\n",
       "    </tr>\n",
       "    <tr>\n",
       "      <th>RedWhite</th>\n",
       "      <td>6</td>\n",
       "      <td>95140.45</td>\n",
       "      <td>96923.400000</td>\n",
       "      <td>114139.2</td>\n",
       "    </tr>\n",
       "    <tr>\n",
       "      <th>Star_Wars</th>\n",
       "      <td>6</td>\n",
       "      <td>141632.35</td>\n",
       "      <td>139564.566667</td>\n",
       "      <td>155995.0</td>\n",
       "    </tr>\n",
       "  </tbody>\n",
       "</table>\n",
       "</div>"
      ],
      "text/plain": [
       "            count     median           mean       max\n",
       "Buckets                                              \n",
       "Cinderella      6  135215.75  136139.850000  148417.8\n",
       "Mermaid         6  122721.40  123628.983333  132883.5\n",
       "MickeyEars      6  152454.00  154566.350000  168442.1\n",
       "MickeySuit      6  168215.60  167465.233333  177073.5\n",
       "RedWhite        6   95140.45   96923.400000  114139.2\n",
       "Star_Wars       6  141632.35  139564.566667  155995.0"
      ]
     },
     "execution_count": 42,
     "metadata": {},
     "output_type": "execute_result"
    }
   ],
   "source": [
    "ab.groupby(\"Buckets\").Q1SalesUSD.agg([\"count\", \"median\", \"mean\", \"max\"])"
   ]
  },
  {
   "cell_type": "code",
   "execution_count": 43,
   "id": "d7dfceb1",
   "metadata": {},
   "outputs": [
    {
     "data": {
      "text/html": [
       "<div>\n",
       "<style scoped>\n",
       "    .dataframe tbody tr th:only-of-type {\n",
       "        vertical-align: middle;\n",
       "    }\n",
       "\n",
       "    .dataframe tbody tr th {\n",
       "        vertical-align: top;\n",
       "    }\n",
       "\n",
       "    .dataframe thead th {\n",
       "        text-align: right;\n",
       "    }\n",
       "</style>\n",
       "<table border=\"1\" class=\"dataframe\">\n",
       "  <thead>\n",
       "    <tr style=\"text-align: right;\">\n",
       "      <th></th>\n",
       "      <th>count</th>\n",
       "      <th>mean</th>\n",
       "      <th>std</th>\n",
       "      <th>min</th>\n",
       "      <th>1%</th>\n",
       "      <th>5%</th>\n",
       "      <th>10%</th>\n",
       "      <th>20%</th>\n",
       "      <th>50%</th>\n",
       "      <th>80%</th>\n",
       "      <th>90%</th>\n",
       "      <th>95%</th>\n",
       "      <th>99%</th>\n",
       "      <th>max</th>\n",
       "    </tr>\n",
       "  </thead>\n",
       "  <tbody>\n",
       "    <tr>\n",
       "      <th>Q1SalesUSD</th>\n",
       "      <td>35.0</td>\n",
       "      <td>135218.765714</td>\n",
       "      <td>23932.509606</td>\n",
       "      <td>81159.8</td>\n",
       "      <td>85397.594</td>\n",
       "      <td>93961.09</td>\n",
       "      <td>98639.82</td>\n",
       "      <td>117360.18</td>\n",
       "      <td>138890.4</td>\n",
       "      <td>156330.44</td>\n",
       "      <td>164684.76</td>\n",
       "      <td>170299.4</td>\n",
       "      <td>176077.708</td>\n",
       "      <td>176821.9</td>\n",
       "    </tr>\n",
       "  </tbody>\n",
       "</table>\n",
       "</div>"
      ],
      "text/plain": [
       "            count           mean           std      min         1%        5%  \\\n",
       "Q1SalesUSD   35.0  135218.765714  23932.509606  81159.8  85397.594  93961.09   \n",
       "\n",
       "                 10%        20%       50%        80%        90%       95%  \\\n",
       "Q1SalesUSD  98639.82  117360.18  138890.4  156330.44  164684.76  170299.4   \n",
       "\n",
       "                   99%       max  \n",
       "Q1SalesUSD  176077.708  176821.9  "
      ]
     },
     "execution_count": 43,
     "metadata": {},
     "output_type": "execute_result"
    }
   ],
   "source": [
    "#Outliers\n",
    "ab = ab[ab.Q1SalesUSD < ab.Q1SalesUSD.max()]\n",
    "\n",
    "# Summary Stats: sum_gamerounds\n",
    "ab.describe([0.01, 0.05, 0.10, 0.20, 0.80, 0.90, 0.95, 0.99])[[\"Q1SalesUSD\"]].T"
   ]
  },
  {
   "cell_type": "code",
   "execution_count": 44,
   "id": "f44cfaee",
   "metadata": {},
   "outputs": [
    {
     "data": {
      "text/html": [
       "<div>\n",
       "<style scoped>\n",
       "    .dataframe tbody tr th:only-of-type {\n",
       "        vertical-align: middle;\n",
       "    }\n",
       "\n",
       "    .dataframe tbody tr th {\n",
       "        vertical-align: top;\n",
       "    }\n",
       "\n",
       "    .dataframe thead th {\n",
       "        text-align: right;\n",
       "    }\n",
       "</style>\n",
       "<table border=\"1\" class=\"dataframe\">\n",
       "  <thead>\n",
       "    <tr style=\"text-align: right;\">\n",
       "      <th></th>\n",
       "      <th>count</th>\n",
       "      <th>mean</th>\n",
       "      <th>std</th>\n",
       "      <th>min</th>\n",
       "      <th>25%</th>\n",
       "      <th>50%</th>\n",
       "      <th>75%</th>\n",
       "      <th>max</th>\n",
       "    </tr>\n",
       "    <tr>\n",
       "      <th>Buckets</th>\n",
       "      <th></th>\n",
       "      <th></th>\n",
       "      <th></th>\n",
       "      <th></th>\n",
       "      <th></th>\n",
       "      <th></th>\n",
       "      <th></th>\n",
       "      <th></th>\n",
       "    </tr>\n",
       "  </thead>\n",
       "  <tbody>\n",
       "    <tr>\n",
       "      <th>Cinderella</th>\n",
       "      <td>6.0</td>\n",
       "      <td>136139.850000</td>\n",
       "      <td>8362.372118</td>\n",
       "      <td>128031.7</td>\n",
       "      <td>128860.350</td>\n",
       "      <td>135215.75</td>\n",
       "      <td>141216.100</td>\n",
       "      <td>148417.8</td>\n",
       "    </tr>\n",
       "    <tr>\n",
       "      <th>Mermaid</th>\n",
       "      <td>6.0</td>\n",
       "      <td>123628.983333</td>\n",
       "      <td>6882.250179</td>\n",
       "      <td>116015.3</td>\n",
       "      <td>118180.575</td>\n",
       "      <td>122721.40</td>\n",
       "      <td>128754.350</td>\n",
       "      <td>132883.5</td>\n",
       "    </tr>\n",
       "    <tr>\n",
       "      <th>MickeyEars</th>\n",
       "      <td>6.0</td>\n",
       "      <td>154566.350000</td>\n",
       "      <td>11395.606430</td>\n",
       "      <td>141166.3</td>\n",
       "      <td>146513.325</td>\n",
       "      <td>152454.00</td>\n",
       "      <td>164374.950</td>\n",
       "      <td>168442.1</td>\n",
       "    </tr>\n",
       "    <tr>\n",
       "      <th>MickeySuit</th>\n",
       "      <td>5.0</td>\n",
       "      <td>165543.580000</td>\n",
       "      <td>9791.205579</td>\n",
       "      <td>153955.9</td>\n",
       "      <td>160508.900</td>\n",
       "      <td>161798.10</td>\n",
       "      <td>174633.100</td>\n",
       "      <td>176821.9</td>\n",
       "    </tr>\n",
       "    <tr>\n",
       "      <th>RedWhite</th>\n",
       "      <td>6.0</td>\n",
       "      <td>96923.400000</td>\n",
       "      <td>10895.539817</td>\n",
       "      <td>81159.8</td>\n",
       "      <td>93744.325</td>\n",
       "      <td>95140.45</td>\n",
       "      <td>100796.275</td>\n",
       "      <td>114139.2</td>\n",
       "    </tr>\n",
       "    <tr>\n",
       "      <th>Star_Wars</th>\n",
       "      <td>6.0</td>\n",
       "      <td>139564.566667</td>\n",
       "      <td>11778.816778</td>\n",
       "      <td>122046.4</td>\n",
       "      <td>133260.525</td>\n",
       "      <td>141632.35</td>\n",
       "      <td>144616.625</td>\n",
       "      <td>155995.0</td>\n",
       "    </tr>\n",
       "  </tbody>\n",
       "</table>\n",
       "</div>"
      ],
      "text/plain": [
       "            count           mean           std       min         25%  \\\n",
       "Buckets                                                                \n",
       "Cinderella    6.0  136139.850000   8362.372118  128031.7  128860.350   \n",
       "Mermaid       6.0  123628.983333   6882.250179  116015.3  118180.575   \n",
       "MickeyEars    6.0  154566.350000  11395.606430  141166.3  146513.325   \n",
       "MickeySuit    5.0  165543.580000   9791.205579  153955.9  160508.900   \n",
       "RedWhite      6.0   96923.400000  10895.539817   81159.8   93744.325   \n",
       "Star_Wars     6.0  139564.566667  11778.816778  122046.4  133260.525   \n",
       "\n",
       "                  50%         75%       max  \n",
       "Buckets                                      \n",
       "Cinderella  135215.75  141216.100  148417.8  \n",
       "Mermaid     122721.40  128754.350  132883.5  \n",
       "MickeyEars  152454.00  164374.950  168442.1  \n",
       "MickeySuit  161798.10  174633.100  176821.9  \n",
       "RedWhite     95140.45  100796.275  114139.2  \n",
       "Star_Wars   141632.35  144616.625  155995.0  "
      ]
     },
     "execution_count": 44,
     "metadata": {},
     "output_type": "execute_result"
    }
   ],
   "source": [
    "ab.groupby('Buckets').describe()['Q1SalesUSD'] "
   ]
  },
  {
   "cell_type": "code",
   "execution_count": 48,
   "id": "2a419aeb",
   "metadata": {},
   "outputs": [
    {
     "name": "stdout",
     "output_type": "stream",
     "text": [
      "3.854335246573083e-27\n",
      "Critical value\n",
      "9.487729036781154\n",
      "P value\n",
      "1.0\n"
     ]
    },
    {
     "data": {
      "text/plain": [
       "Power_divergenceResult(statistic=3.854335246573083e-27, pvalue=1.0)"
      ]
     },
     "execution_count": 48,
     "metadata": {},
     "output_type": "execute_result"
    }
   ],
   "source": [
    " \n",
    "observed = ab['Q1SalesUSD'] \n",
    "Ratio = ab['Q1SalesUSD'] /len(ab)\n",
    "expected = Ratio*len(ab)\n",
    "\n",
    "chi_squared_stat = (((observed-expected)**2)/expected).sum()\n",
    "\n",
    "print(chi_squared_stat)\n",
    "\n",
    "crit = stats.chi2.ppf(q = 0.95, # Find the critical value for 95% confidence*\n",
    "                      df = 4)   # Df = number of variable categories - 1\n",
    "\n",
    "print(\"Critical value\")\n",
    "print(crit)\n",
    "\n",
    "p_value = 1 - stats.chi2.cdf(x=chi_squared_stat,  # Find the p-value\n",
    "                             df=4)\n",
    "print(\"P value\")\n",
    "print(p_value)\n",
    "\n",
    "stats.chisquare(f_obs= observed,   # Array of observed counts\n",
    "                f_exp= expected)"
   ]
  },
  {
   "cell_type": "code",
   "execution_count": 47,
   "id": "a3760b99",
   "metadata": {},
   "outputs": [
    {
     "data": {
      "text/plain": [
       "1.0"
      ]
     },
     "execution_count": 47,
     "metadata": {},
     "output_type": "execute_result"
    }
   ],
   "source": [
    "from scipy import stats\n",
    "t, p = stats.ttest_ind(observed, expected , equal_var=False)\n",
    "p"
   ]
  },
  {
   "cell_type": "code",
   "execution_count": 49,
   "id": "553594ae",
   "metadata": {},
   "outputs": [
    {
     "data": {
      "text/plain": [
       "0.0"
      ]
     },
     "execution_count": 49,
     "metadata": {},
     "output_type": "execute_result"
    }
   ],
   "source": [
    "t"
   ]
  },
  {
   "cell_type": "markdown",
   "id": "0a096296",
   "metadata": {},
   "source": [
    "## A/B Testing"
   ]
  },
  {
   "cell_type": "markdown",
   "id": "b2582e98",
   "metadata": {},
   "source": [
    "A/B testing is a basic randomized control experiment. It is a way to compare the two versions of a variable to find out which performs better in a controlled environment. For instance, let's say you own a company and want to increase the sales of your product. Here, we use some steps to perform A/B Testing.\n",
    "\n",
    "\n",
    "Understanding business problem & data\n",
    "Detect and resolve problems in the data (Missing Value, Outliers, Unexpected Value)\n",
    "Look summary stats and plots\n",
    "Apply hypothesis testing and check assumptions\n",
    "Check Normality & Homogeneity\n",
    "Apply tests\n",
    "Evaluate the results\n",
    "\n",
    "\n",
    "\n",
    "Disney should increase the sale price of the Mermarid, Micky Suit, Mickey Ears, Red White. So that, Disney could earn more profit from these buckets."
   ]
  },
  {
   "cell_type": "markdown",
   "id": "65bee22e",
   "metadata": {},
   "source": [
    "## Conclusion"
   ]
  },
  {
   "cell_type": "markdown",
   "id": "3462bbe2",
   "metadata": {},
   "source": [
    "We conclude that from the above results that how to compute the summary statistics of disney movies. Snow white is the top grossed movie in Disney Walt. We also calculate some statics of movies dataset. Then, we segment the house hold family into different group of families. We convert the disney families into 5 families with respect to the net income,estimate net income, annual travel, annual leisure and annual household FICO.\n",
    "\n",
    "Then, we do some conjoint analysis. We give some recommendations about new hotel. You need to add some facilities for the customers. If you provide these facilities to the customers, then you make a new luxiours hotel. In this luxiours hotel, you earn 250$ per night.\n",
    "\n",
    "Then, we do some forecasting on the dataset. First, we collect the data from the website then we predict the net income of the next 1 year using ARIMA Model. After this we apply some classification algorithm on the cruise_returners dataset. we predict the data by applying some classification algorithm such as knn, logistic regrerssion and Decision Tree.\n",
    "\n",
    "At the end, we do A/B Testing on popcorn buckets dataset. After testing, we observed that Disney should increase the sale price of the Mermarid, Micky Suit, Mickey Ears, Red White. So that, Disney could earn more profit from these buckets."
   ]
  },
  {
   "cell_type": "markdown",
   "id": "5e45ea6b",
   "metadata": {},
   "source": [
    "## References"
   ]
  },
  {
   "cell_type": "markdown",
   "id": "49030c7a",
   "metadata": {},
   "source": [
    "disney research,2019,2021,https://la.disneyresearch.com/datasets/"
   ]
  },
  {
   "cell_type": "code",
   "execution_count": null,
   "id": "3dce5767",
   "metadata": {},
   "outputs": [],
   "source": []
  }
 ],
 "metadata": {
  "kernelspec": {
   "display_name": "Python 3",
   "language": "python",
   "name": "python3"
  },
  "language_info": {
   "codemirror_mode": {
    "name": "ipython",
    "version": 3
   },
   "file_extension": ".py",
   "mimetype": "text/x-python",
   "name": "python",
   "nbconvert_exporter": "python",
   "pygments_lexer": "ipython3",
   "version": "3.8.8"
  }
 },
 "nbformat": 4,
 "nbformat_minor": 5
}
